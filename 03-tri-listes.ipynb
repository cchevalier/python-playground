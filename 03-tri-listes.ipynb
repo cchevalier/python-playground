{
 "cells": [
  {
   "cell_type": "markdown",
   "metadata": {},
   "source": [
    "# 3. Tri des listes\n"
   ]
  },
  {
   "cell_type": "code",
   "execution_count": 1,
   "metadata": {},
   "outputs": [
    {
     "name": "stdout",
     "output_type": "stream",
     "text": [
      "13 [5, 4, 8, 5, 8, 10, 1, 3, 6, 6, 2, 3, 9]\n"
     ]
    }
   ],
   "source": [
    "ma_liste = [5, 4, 8, 5, 8, 10, 1, 3, 6, 6, 2, 3, 9]\n",
    "print(len(ma_liste), ma_liste)"
   ]
  },
  {
   "cell_type": "code",
   "execution_count": null,
   "metadata": {},
   "outputs": [],
   "source": []
  },
  {
   "cell_type": "markdown",
   "metadata": {},
   "source": [
    "### Méthode de classe ```List```: ```list.sort```"
   ]
  },
  {
   "cell_type": "code",
   "execution_count": 2,
   "metadata": {},
   "outputs": [
    {
     "name": "stdout",
     "output_type": "stream",
     "text": [
      "Help on method_descriptor:\n",
      "\n",
      "sort(self, /, *, key=None, reverse=False)\n",
      "    Sort the list in ascending order and return None.\n",
      "    \n",
      "    The sort is in-place (i.e. the list itself is modified) and stable (i.e. the\n",
      "    order of two equal elements is maintained).\n",
      "    \n",
      "    If a key function is given, apply it once to each list item and sort them,\n",
      "    ascending or descending, according to their function values.\n",
      "    \n",
      "    The reverse flag can be set to sort in descending order.\n",
      "\n"
     ]
    }
   ],
   "source": [
    "help(list.sort)"
   ]
  },
  {
   "cell_type": "code",
   "execution_count": 3,
   "metadata": {},
   "outputs": [
    {
     "name": "stdout",
     "output_type": "stream",
     "text": [
      "[1, 2, 3, 3, 4, 5, 5, 6, 6, 8, 8, 9, 10]\n"
     ]
    }
   ],
   "source": [
    "# Tri en place (ma_liste est modifiée / triée)\n",
    "ma_liste.sort()\n",
    "print(ma_liste)"
   ]
  },
  {
   "cell_type": "code",
   "execution_count": 4,
   "metadata": {},
   "outputs": [
    {
     "name": "stdout",
     "output_type": "stream",
     "text": [
      "[10, 9, 8, 8, 6, 6, 5, 5, 4, 3, 3, 2, 1]\n"
     ]
    }
   ],
   "source": [
    "# Tri par ordre décroissant\n",
    "ma_liste.sort(reverse=True)\n",
    "print(ma_liste)"
   ]
  },
  {
   "cell_type": "code",
   "execution_count": 5,
   "metadata": {},
   "outputs": [
    {
     "data": {
      "text/plain": [
       "[10, 9, 8, 8, 6, 6, 5, 5, 4, 3, 3, 2, 1]"
      ]
     },
     "execution_count": 5,
     "metadata": {},
     "output_type": "execute_result"
    }
   ],
   "source": [
    "ma_liste"
   ]
  },
  {
   "cell_type": "code",
   "execution_count": 6,
   "metadata": {},
   "outputs": [
    {
     "data": {
      "text/plain": [
       "[1, 2, 3, 3, 4, 5, 5, 6, 6, 8, 8, 9, 10]"
      ]
     },
     "execution_count": 6,
     "metadata": {},
     "output_type": "execute_result"
    }
   ],
   "source": [
    "ma_liste.sort()\n",
    "ma_liste"
   ]
  },
  {
   "cell_type": "markdown",
   "metadata": {},
   "source": [
    "### Fonction intégrée ```sorted```"
   ]
  },
  {
   "cell_type": "code",
   "execution_count": 7,
   "metadata": {},
   "outputs": [
    {
     "name": "stdout",
     "output_type": "stream",
     "text": [
      "Help on built-in function sorted in module builtins:\n",
      "\n",
      "sorted(iterable, /, *, key=None, reverse=False)\n",
      "    Return a new list containing all items from the iterable in ascending order.\n",
      "    \n",
      "    A custom key function can be supplied to customize the sort order, and the\n",
      "    reverse flag can be set to request the result in descending order.\n",
      "\n"
     ]
    }
   ],
   "source": [
    "help(sorted)"
   ]
  },
  {
   "cell_type": "code",
   "execution_count": 8,
   "metadata": {},
   "outputs": [],
   "source": [
    "ma_liste = [5, 4, 8, 5, 8, 10, 1, 3, 6, 6, 2, 3, 9]"
   ]
  },
  {
   "cell_type": "code",
   "execution_count": 9,
   "metadata": {},
   "outputs": [
    {
     "name": "stdout",
     "output_type": "stream",
     "text": [
      "[1, 2, 3, 3, 4, 5, 5, 6, 6, 8, 8, 9, 10]\n"
     ]
    }
   ],
   "source": [
    "# la fonction `sorted` retourne une nouvelle liste, triée\n",
    "ma_liste_triee = sorted(ma_liste)\n",
    "print(ma_liste_triee)"
   ]
  },
  {
   "cell_type": "code",
   "execution_count": 10,
   "metadata": {},
   "outputs": [
    {
     "data": {
      "text/plain": [
       "[10, 9, 8, 8, 6, 6, 5, 5, 4, 3, 3, 2, 1]"
      ]
     },
     "execution_count": 10,
     "metadata": {},
     "output_type": "execute_result"
    }
   ],
   "source": [
    "sorted(ma_liste, reverse=True)"
   ]
  },
  {
   "cell_type": "code",
   "execution_count": null,
   "metadata": {},
   "outputs": [],
   "source": []
  },
  {
   "cell_type": "markdown",
   "metadata": {},
   "source": [
    "## Exercices"
   ]
  },
  {
   "cell_type": "markdown",
   "metadata": {},
   "source": [
    "L'objet des exercices suivants est d'implémenter la fonctionnalité tri d'une liste de façon simple (mais peu performante pour des listes très grandes)."
   ]
  },
  {
   "cell_type": "code",
   "execution_count": 11,
   "metadata": {},
   "outputs": [],
   "source": [
    "ma_liste = [5, 4, 8, 5, 8, 10, 1, 3, 6, 6, 2, 3, 9]"
   ]
  },
  {
   "cell_type": "code",
   "execution_count": null,
   "metadata": {},
   "outputs": [],
   "source": []
  },
  {
   "cell_type": "code",
   "execution_count": 12,
   "metadata": {},
   "outputs": [],
   "source": [
    "# FYI: Implementation demo flag\n",
    "def calculer_somme(L, demo = False):\n",
    "    somme = 0\n",
    "    for i in range(len(L)):\n",
    "        somme += L[i]\n",
    "        if demo:\n",
    "            print(L[i], somme)\n",
    "    return somme"
   ]
  },
  {
   "cell_type": "code",
   "execution_count": 13,
   "metadata": {},
   "outputs": [
    {
     "data": {
      "text/plain": [
       "70"
      ]
     },
     "execution_count": 13,
     "metadata": {},
     "output_type": "execute_result"
    }
   ],
   "source": [
    "ma_liste = [5, 4, 8, 5, 8, 10, 1, 3, 6, 6, 2, 3, 9]\n",
    "calculer_somme(ma_liste)"
   ]
  },
  {
   "cell_type": "code",
   "execution_count": 14,
   "metadata": {},
   "outputs": [
    {
     "name": "stdout",
     "output_type": "stream",
     "text": [
      "5 5\n",
      "4 9\n",
      "8 17\n",
      "5 22\n",
      "8 30\n",
      "10 40\n",
      "1 41\n",
      "3 44\n",
      "6 50\n",
      "6 56\n",
      "2 58\n",
      "3 61\n",
      "9 70\n"
     ]
    },
    {
     "data": {
      "text/plain": [
       "70"
      ]
     },
     "execution_count": 14,
     "metadata": {},
     "output_type": "execute_result"
    }
   ],
   "source": [
    "ma_liste = [5, 4, 8, 5, 8, 10, 1, 3, 6, 6, 2, 3, 9]\n",
    "calculer_somme(ma_liste, demo = True)"
   ]
  },
  {
   "cell_type": "markdown",
   "metadata": {},
   "source": [
    "### Tri par sélection (min)"
   ]
  },
  {
   "cell_type": "markdown",
   "metadata": {},
   "source": [
    "> **Démo avec jeux de cartes**"
   ]
  },
  {
   "cell_type": "markdown",
   "metadata": {},
   "source": [
    "TO DO: Décrivez l'algorithme de tri par sélection en pseudo-code:  \n",
    "\n",
    "Jordan:\n",
    "```\n",
    "Tant qu'il y a des cartes:   \n",
    "    - je prends la plus faible  \n",
    "    - je l'ajoute à une nouvelle liste  \n",
    "    - je la supprime de L  \n",
    "je retourne la nouvelle liste  \n",
    "```  \n",
    "  "
   ]
  },
  {
   "cell_type": "code",
   "execution_count": null,
   "metadata": {},
   "outputs": [],
   "source": []
  },
  {
   "cell_type": "code",
   "execution_count": 15,
   "metadata": {},
   "outputs": [
    {
     "name": "stdout",
     "output_type": "stream",
     "text": [
      "13\n",
      "12\n",
      "11\n",
      "10\n",
      "9\n",
      "8\n",
      "7\n",
      "6\n",
      "5\n",
      "4\n",
      "3\n",
      "2\n",
      "1\n"
     ]
    }
   ],
   "source": [
    "# Préalable: démo ```while````\n",
    "compteur = len(ma_liste)\n",
    "while compteur > 0:\n",
    "    print(compteur)\n",
    "    compteur -= 1"
   ]
  },
  {
   "cell_type": "code",
   "execution_count": 16,
   "metadata": {},
   "outputs": [],
   "source": [
    "# While / Jordan\n",
    "#\n",
    "# Implémentation du tri par sélection (utilisant fonction min())\n",
    "def tri_selection(L):\n",
    "    liste_triee = []\n",
    "    while len(L) > 0:\n",
    "        carte_min = min(L)\n",
    "        liste_triee.append(carte_min)\n",
    "        L.remove(carte_min)\n",
    "    return liste_triee"
   ]
  },
  {
   "cell_type": "code",
   "execution_count": 17,
   "metadata": {},
   "outputs": [
    {
     "data": {
      "text/plain": [
       "[1, 2, 3, 3, 4, 5, 5, 6, 6, 8, 8, 9, 10]"
      ]
     },
     "execution_count": 17,
     "metadata": {},
     "output_type": "execute_result"
    }
   ],
   "source": [
    "ma_liste = [5, 4, 8, 5, 8, 10, 1, 3, 6, 6, 2, 3, 9]\n",
    "tri_selection(ma_liste)"
   ]
  },
  {
   "cell_type": "code",
   "execution_count": 18,
   "metadata": {},
   "outputs": [
    {
     "data": {
      "text/plain": [
       "[]"
      ]
     },
     "execution_count": 18,
     "metadata": {},
     "output_type": "execute_result"
    }
   ],
   "source": [
    "# Note: ma_liste est vide à la fin\n",
    "ma_liste"
   ]
  },
  {
   "cell_type": "code",
   "execution_count": 19,
   "metadata": {},
   "outputs": [],
   "source": [
    "# For / Abire\n",
    "#\n",
    "# Implémentation du tri par sélection (utilisant fonction min())\n",
    "def tri_selection(L):\n",
    "    L_tri=[]\n",
    "    for i in range(len(L)):\n",
    "        L_min=min(L)\n",
    "        L.remove(L_min)\n",
    "        L_tri.append(L_min)\n",
    "    return L_tri"
   ]
  },
  {
   "cell_type": "code",
   "execution_count": 20,
   "metadata": {},
   "outputs": [
    {
     "data": {
      "text/plain": [
       "[1, 2, 3, 3, 4, 5, 5, 6, 6, 8, 8, 9, 10]"
      ]
     },
     "execution_count": 20,
     "metadata": {},
     "output_type": "execute_result"
    }
   ],
   "source": [
    "ma_liste = [5, 4, 8, 5, 8, 10, 1, 3, 6, 6, 2, 3, 9]\n",
    "tri_selection(ma_liste)"
   ]
  },
  {
   "cell_type": "code",
   "execution_count": 21,
   "metadata": {},
   "outputs": [
    {
     "data": {
      "text/plain": [
       "[]"
      ]
     },
     "execution_count": 21,
     "metadata": {},
     "output_type": "execute_result"
    }
   ],
   "source": [
    "ma_liste"
   ]
  },
  {
   "cell_type": "code",
   "execution_count": 22,
   "metadata": {},
   "outputs": [],
   "source": [
    "# Tri en place / Lamia, , nécessite de bien gérer les indices !\n",
    "#\n",
    "# Implémentation du tri par sélection (utilisant fonction min())\n",
    "def tri_selection(L):\n",
    "    for i in range(len(L)-1):\n",
    "        min_list=min(L[i:len(L)])\n",
    "        index_min=L[i:len(L)].index(min_list)+i\n",
    "        L[i],L[index_min]=L[index_min],L[i]\n",
    "    return L"
   ]
  },
  {
   "cell_type": "code",
   "execution_count": 23,
   "metadata": {},
   "outputs": [
    {
     "data": {
      "text/plain": [
       "[1, 2, 3, 3, 4, 5, 5, 6, 6, 8, 8, 9, 10]"
      ]
     },
     "execution_count": 23,
     "metadata": {},
     "output_type": "execute_result"
    }
   ],
   "source": [
    "ma_liste = [5, 4, 8, 5, 8, 10, 1, 3, 6, 6, 2, 3, 9]\n",
    "tri_selection(ma_liste)"
   ]
  },
  {
   "cell_type": "code",
   "execution_count": 24,
   "metadata": {},
   "outputs": [
    {
     "data": {
      "text/plain": [
       "[1, 2, 3, 3, 4, 5, 5, 6, 6, 8, 8, 9, 10]"
      ]
     },
     "execution_count": 24,
     "metadata": {},
     "output_type": "execute_result"
    }
   ],
   "source": [
    "ma_liste"
   ]
  },
  {
   "cell_type": "markdown",
   "metadata": {},
   "source": [
    "---  \n",
    "Et là, la fin de semaine a commencé à se faire sentir durement...\n",
    "  \n",
    "  "
   ]
  },
  {
   "cell_type": "code",
   "execution_count": 25,
   "metadata": {},
   "outputs": [],
   "source": [
    "# Pb 1\n",
    "#\n",
    "# Implémentation du tri par sélection (utilisant fonction min())\n",
    "def tri_selection(L, demo = False):\n",
    "    min_L=[]\n",
    "    for e in range(len(L)):\n",
    "        if e == min(L):\n",
    "            min_L.append(e)\n",
    "            L.remove(min(L))\n",
    "    return(min_L)"
   ]
  },
  {
   "cell_type": "code",
   "execution_count": 26,
   "metadata": {},
   "outputs": [
    {
     "data": {
      "text/plain": [
       "[1, 2, 3]"
      ]
     },
     "execution_count": 26,
     "metadata": {},
     "output_type": "execute_result"
    }
   ],
   "source": [
    "ma_liste = [5, 4, 8, 5, 8, 10, 1, 3, 6, 6, 2, 3, 9]\n",
    "tri_selection(ma_liste)"
   ]
  },
  {
   "cell_type": "markdown",
   "metadata": {},
   "source": [
    "**WHAT???**"
   ]
  },
  {
   "cell_type": "code",
   "execution_count": 27,
   "metadata": {},
   "outputs": [],
   "source": [
    "# On tente de se rassurer...\n",
    "def tri_selection(L, demo = False):\n",
    "    min_L=[]\n",
    "    for e in range(len(L)):\n",
    "        tmp = min(L)\n",
    "        min_L.append(tmp)\n",
    "        L.remove(tmp)\n",
    "    return(min_L)\n"
   ]
  },
  {
   "cell_type": "code",
   "execution_count": 28,
   "metadata": {},
   "outputs": [
    {
     "data": {
      "text/plain": [
       "[1, 2, 3, 3, 4, 5, 5, 6, 6, 8, 8, 9, 10]"
      ]
     },
     "execution_count": 28,
     "metadata": {},
     "output_type": "execute_result"
    }
   ],
   "source": [
    "ma_liste = [5, 4, 8, 5, 8, 10, 1, 3, 6, 6, 2, 3, 9]\n",
    "tri_selection(ma_liste, True)"
   ]
  },
  {
   "cell_type": "code",
   "execution_count": 29,
   "metadata": {},
   "outputs": [],
   "source": [
    "# On bidouille les indices (dès fois ça passe...)\n",
    "def tri_selection(L, demo = False):\n",
    "    min_L=[]\n",
    "    for e in range(len(L)-1):\n",
    "        if e == min(L):\n",
    "            min_L.append(e)\n",
    "            L.remove(min(L))\n",
    "    return(min_L)"
   ]
  },
  {
   "cell_type": "code",
   "execution_count": 30,
   "metadata": {},
   "outputs": [
    {
     "data": {
      "text/plain": [
       "[1, 2, 3]"
      ]
     },
     "execution_count": 30,
     "metadata": {},
     "output_type": "execute_result"
    }
   ],
   "source": [
    "ma_liste = [5, 4, 8, 5, 8, 10, 1, 3, 6, 6, 2, 3, 9]\n",
    "tri_selection(ma_liste, True)"
   ]
  },
  {
   "cell_type": "markdown",
   "metadata": {},
   "source": [
    "Nope... mais le pb se précise: la condition `if` porte sur deux variables de nature différente, e est un indice (boucle sur série `range`) et min(L) est la valeur minimale de la liste !!!  \n",
    "Mais pour tenter d'illustrer le dilemne, on en introduit un autre..."
   ]
  },
  {
   "cell_type": "code",
   "execution_count": 31,
   "metadata": {},
   "outputs": [],
   "source": [
    "# ATTENTION: Plantage pour `list index out of range` \n",
    "def tri_selection(L, demo=False):\n",
    "    min_L=[]\n",
    "    for i in range(len(L)-1):\n",
    "        if L[i]==min(L):\n",
    "            min_L.append(L[i])\n",
    "            L.remove(L[i])\n",
    "    return(min_L)\n",
    "\n",
    "ma_liste = [5, 4, 8, 5, 8, 10, 1, 3, 6, 6, 2, 3, 9]\n",
    "\n",
    "# ATTENTION: Plantage pour `list index out of range` \n",
    "# tri_selection(ma_liste, True)"
   ]
  },
  {
   "cell_type": "markdown",
   "metadata": {},
   "source": [
    "Pour tenter d'y voir plus clair, il faut débugger à \"l'ancienne\" (print des variables intermédiaires) ce qui ramène à la signature initiale suggérée pour  l'implémentation de cette fonction (drapeau / flag demo)..."
   ]
  },
  {
   "cell_type": "code",
   "execution_count": 32,
   "metadata": {},
   "outputs": [
    {
     "data": {
      "text/plain": [
       "[1, 2, 3, 3, 4, 5, 5, 6, 6, 8, 8, 9, 10]"
      ]
     },
     "execution_count": 32,
     "metadata": {},
     "output_type": "execute_result"
    }
   ],
   "source": [
    "# 1ère version avec demo mécanique interne\n",
    "# Solution fonctionnelle\n",
    "#\n",
    "# Implémentation du tri par sélection (utilisant fonction min())\n",
    "def tri_selection(L, demo=False):\n",
    "    S = []\n",
    "    \n",
    "    compteur = 0\n",
    "    if demo:\n",
    "        print(compteur, S)\n",
    "    \n",
    "    while len(L) > 0:\n",
    "        compteur += 1\n",
    "        \n",
    "        emin = min(L) \n",
    "        S.append(emin)\n",
    "        L.remove(emin)\n",
    "        \n",
    "        if demo:\n",
    "            print(compteur, S)\n",
    "    \n",
    "    return S\n",
    "\n",
    "ma_liste = [5, 4, 8, 5, 8, 10, 1, 3, 6, 6, 2, 3, 9]\n",
    "tri_selection(ma_liste, False)"
   ]
  },
  {
   "cell_type": "code",
   "execution_count": 33,
   "metadata": {},
   "outputs": [
    {
     "name": "stdout",
     "output_type": "stream",
     "text": [
      "0 []\n",
      "1 [1]\n",
      "2 [1, 2]\n",
      "3 [1, 2, 3]\n",
      "4 [1, 2, 3, 3]\n",
      "5 [1, 2, 3, 3, 4]\n",
      "6 [1, 2, 3, 3, 4, 5]\n",
      "7 [1, 2, 3, 3, 4, 5, 5]\n",
      "8 [1, 2, 3, 3, 4, 5, 5, 6]\n",
      "9 [1, 2, 3, 3, 4, 5, 5, 6, 6]\n",
      "10 [1, 2, 3, 3, 4, 5, 5, 6, 6, 8]\n",
      "11 [1, 2, 3, 3, 4, 5, 5, 6, 6, 8, 8]\n",
      "12 [1, 2, 3, 3, 4, 5, 5, 6, 6, 8, 8, 9]\n",
      "13 [1, 2, 3, 3, 4, 5, 5, 6, 6, 8, 8, 9, 10]\n"
     ]
    },
    {
     "data": {
      "text/plain": [
       "[1, 2, 3, 3, 4, 5, 5, 6, 6, 8, 8, 9, 10]"
      ]
     },
     "execution_count": 33,
     "metadata": {},
     "output_type": "execute_result"
    }
   ],
   "source": [
    "ma_liste = [5, 4, 8, 5, 8, 10, 1, 3, 6, 6, 2, 3, 9]\n",
    "tri_selection(ma_liste, True)"
   ]
  },
  {
   "cell_type": "code",
   "execution_count": 34,
   "metadata": {},
   "outputs": [
    {
     "name": "stdout",
     "output_type": "stream",
     "text": [
      "0 []\n",
      "1 [1]\n",
      "2 [1, 2]\n",
      "3 [1, 2, 3]\n",
      "4 [1, 2, 3, 3]\n",
      "5 [1, 2, 3, 3, 4]\n",
      "6 [1, 2, 3, 3, 4, 5]\n",
      "7 [1, 2, 3, 3, 4, 5, 5]\n",
      "8 [1, 2, 3, 3, 4, 5, 5, 6]\n",
      "9 [1, 2, 3, 3, 4, 5, 5, 6, 6]\n",
      "10 [1, 2, 3, 3, 4, 5, 5, 6, 6, 8]\n",
      "11 [1, 2, 3, 3, 4, 5, 5, 6, 6, 8, 8]\n",
      "12 [1, 2, 3, 3, 4, 5, 5, 6, 6, 8, 8, 9]\n",
      "13 [1, 2, 3, 3, 4, 5, 5, 6, 6, 8, 8, 9, 10]\n"
     ]
    },
    {
     "data": {
      "text/plain": [
       "[1, 2, 3, 3, 4, 5, 5, 6, 6, 8, 8, 9, 10]"
      ]
     },
     "execution_count": 34,
     "metadata": {},
     "output_type": "execute_result"
    }
   ],
   "source": [
    "# avec demo mode activé\n",
    "ma_liste = [5, 4, 8, 5, 8, 10, 1, 3, 6, 6, 2, 3, 9]\n",
    "tri_selection(ma_liste, True)"
   ]
  },
  {
   "cell_type": "markdown",
   "metadata": {},
   "source": [
    "Et je repars sur mon idée originelle : montrer le coût \"caché\" de l'emploi de la fonction `min` ce qui conduit à cette 2ème version"
   ]
  },
  {
   "cell_type": "code",
   "execution_count": 35,
   "metadata": {},
   "outputs": [
    {
     "name": "stdout",
     "output_type": "stream",
     "text": [
      "  0: [5, 4, 8, 5, 8, 10, 1, 3, 6, 6, 2, 3, 9]\n",
      " 13: [1]\n",
      " 25: [1, 2]\n",
      " 36: [1, 2, 3]\n",
      " 46: [1, 2, 3, 3]\n",
      " 55: [1, 2, 3, 3, 4]\n",
      " 63: [1, 2, 3, 3, 4, 5]\n",
      " 70: [1, 2, 3, 3, 4, 5, 5]\n",
      " 76: [1, 2, 3, 3, 4, 5, 5, 6]\n",
      " 81: [1, 2, 3, 3, 4, 5, 5, 6, 6]\n",
      " 85: [1, 2, 3, 3, 4, 5, 5, 6, 6, 8]\n",
      " 88: [1, 2, 3, 3, 4, 5, 5, 6, 6, 8, 8]\n",
      " 90: [1, 2, 3, 3, 4, 5, 5, 6, 6, 8, 8, 9]\n",
      " 91: [1, 2, 3, 3, 4, 5, 5, 6, 6, 8, 8, 9, 10]\n"
     ]
    },
    {
     "data": {
      "text/plain": [
       "[1, 2, 3, 3, 4, 5, 5, 6, 6, 8, 8, 9, 10]"
      ]
     },
     "execution_count": 35,
     "metadata": {},
     "output_type": "execute_result"
    }
   ],
   "source": [
    "# 2ème version avec demo mécanique interne\n",
    "# Solution fonctionnelle\n",
    "#\n",
    "# Implémentation du tri par sélection (ré-implémentant min)\n",
    "def tri_selection_complet(L, demo = False):\n",
    "    S = []\n",
    "    compteur = 0\n",
    "    if demo:\n",
    "        # mais le print / format n'a pas encore été vu...\n",
    "        print(\"{:3d}: {}\".format(compteur, L))\n",
    "    \n",
    "    while len(L) > 0:\n",
    "        \n",
    "        # ré-implémentation min\n",
    "        emin = L[0]\n",
    "        for e in L:\n",
    "            compteur += 1\n",
    "            if e < emin:\n",
    "                emin = e\n",
    "        \n",
    "        S.append(emin)\n",
    "        L.remove(emin)\n",
    "        \n",
    "        if demo:\n",
    "            print(f\"{compteur:3d}: {S}\")\n",
    "    return S\n",
    "\n",
    "ma_liste = [5, 4, 8, 5, 8, 10, 1, 3, 6, 6, 2, 3, 9]\n",
    "tri_selection_complet(ma_liste, True)"
   ]
  },
  {
   "cell_type": "markdown",
   "metadata": {},
   "source": [
    "Moi, à l'oral, notez le nb total d'itérations (91) et non plus 13 comme précèdemment (vendredi 13, près de 17h...)"
   ]
  },
  {
   "cell_type": "code",
   "execution_count": 36,
   "metadata": {},
   "outputs": [
    {
     "name": "stdout",
     "output_type": "stream",
     "text": [
      "[5, 4, 8, 5, 8, 10, 1, 3, 6, 6, 2, 3, 9]\n",
      "0 1 1 10 13 [5, 4, 8, 5, 8, 10, 1, 3, 6, 6, 2, 3, 9]\n",
      "[5, 4, 8, 5, 8, 10, 3, 6, 6, 2, 3, 9]\n",
      "1 2 2 10 12 [5, 4, 8, 5, 8, 10, 3, 6, 6, 2, 3, 9]\n",
      "[5, 4, 8, 5, 8, 10, 3, 6, 6, 3, 9]\n",
      "2 3 3 10 11 [5, 4, 8, 5, 8, 10, 3, 6, 6, 3, 9]\n",
      "[5, 4, 8, 5, 8, 10, 6, 6, 3, 9]\n",
      "3 3 3 10 10 [5, 4, 8, 5, 8, 10, 6, 6, 3, 9]\n",
      "[5, 4, 8, 5, 8, 10, 6, 6, 9]\n",
      "4 4 4 10 9 [5, 4, 8, 5, 8, 10, 6, 6, 9]\n",
      "[5, 8, 5, 8, 10, 6, 6, 9]\n",
      "5 5 5 10 8 [5, 8, 5, 8, 10, 6, 6, 9]\n",
      "[8, 5, 8, 10, 6, 6, 9]\n",
      "6 5 5 10 7 [8, 5, 8, 10, 6, 6, 9]\n",
      "[8, 8, 10, 6, 6, 9]\n",
      "7 6 6 10 6 [8, 8, 10, 6, 6, 9]\n",
      "[8, 8, 10, 6, 9]\n",
      "8 6 6 10 5 [8, 8, 10, 6, 9]\n",
      "[8, 8, 10, 9]\n",
      "9 8 8 10 4 [8, 8, 10, 9]\n",
      "[8, 10, 9]\n",
      "10 8 8 10 3 [8, 10, 9]\n",
      "[10, 9]\n",
      "11 9 9 10 2 [10, 9]\n",
      "[10]\n",
      "12 10 10 10 1 [10]\n",
      "c'est ma nouvelle liste [1, 2, 3, 3, 4, 5, 5, 6, 6, 8, 8, 9, 10]\n"
     ]
    }
   ],
   "source": [
    "# Une version qui n'apporte pas grand chose...\n",
    "def tri_selection(L, demo = False):\n",
    "\n",
    "    nouvelle_liste = []\n",
    "\n",
    "    for i in range(len(L)):\n",
    "        print(L)\n",
    "        vmin = min(L)\n",
    "        # On écrit tout et on se débrouillera à l'exécution\n",
    "        print(i, vmin, min(L), max(L), len(L), L)\n",
    "        nouvelle_liste.append(vmin)\n",
    "        L.remove(vmin)\n",
    "\n",
    "    print(\"c'est ma nouvelle liste\", nouvelle_liste)\n",
    "\n",
    "ma_liste = [5, 4, 8, 5, 8, 10, 1, 3, 6, 6, 2, 3, 9]\n",
    "tri_selection(ma_liste, True)"
   ]
  },
  {
   "cell_type": "markdown",
   "metadata": {},
   "source": [
    "Je pensais pouvoir \"conclure\" la séance / semaine sur cette notion de coût (ouf j'ai réussi à \"placer\" mon msg (totalement différent de le faire \"passer\" ceci dit...)  \n",
    "  \n",
    "  \n",
    "Mais un nouveau pb apparaît sur le discord..."
   ]
  },
  {
   "cell_type": "code",
   "execution_count": 37,
   "metadata": {},
   "outputs": [
    {
     "name": "stdout",
     "output_type": "stream",
     "text": [
      "c'est ma nouvelle liste [1, 2, 3, 3, 4, 5, 5]\n"
     ]
    }
   ],
   "source": [
    "# Pb 2\n",
    "#\n",
    "# Implémentation du tri par sélection (utilisant fonction min())\n",
    "def tri_selection(L, demo = False):\n",
    "\n",
    "    nouvelle_liste = []\n",
    "\n",
    "    for i in L:\n",
    "        vmin = min(L)\n",
    "        nouvelle_liste.append(vmin)\n",
    "        L.remove(vmin)\n",
    "\n",
    "    print(\"c'est ma nouvelle liste\", nouvelle_liste)\n",
    "\n",
    "ma_liste = [5, 4, 8, 5, 8, 10, 1, 3, 6, 6, 2, 3, 9]\n",
    "tri_selection(ma_liste, True)"
   ]
  },
  {
   "cell_type": "markdown",
   "metadata": {},
   "source": [
    "**WHAT AGAIN???***"
   ]
  },
  {
   "cell_type": "markdown",
   "metadata": {},
   "source": [
    "Là le pb est que ça bloque à un moment si utilisation `for i in L` alors que ça marche si utilisation de `for i in range(len(L))`...\n",
    "\n",
    "A noter que des pistes pour illustrer le / les pbs apparaissent également sur le discord à ce moment, mais bon, vendredi 13 & 17h passé..."
   ]
  },
  {
   "cell_type": "code",
   "execution_count": null,
   "metadata": {},
   "outputs": [],
   "source": []
  },
  {
   "cell_type": "markdown",
   "metadata": {},
   "source": [
    "#### Récap de fin de semaine 3 sur tri par sélection (min)\n",
    "- 1 solution (parmi qq autres)"
   ]
  },
  {
   "cell_type": "code",
   "execution_count": 38,
   "metadata": {},
   "outputs": [
    {
     "data": {
      "text/plain": [
       "[1, 2, 3, 3, 4, 5, 5, 6, 6, 8, 8, 9, 10]"
      ]
     },
     "execution_count": 38,
     "metadata": {},
     "output_type": "execute_result"
    }
   ],
   "source": [
    "# While / Jordan\n",
    "#\n",
    "# Implémentation du tri par sélection (utilisant fonction min())\n",
    "def tri_selection(L, demo = False):\n",
    "    liste_triee = []\n",
    "    while len(L) > 0:\n",
    "        carte_min = min(L)\n",
    "        liste_triee.append(carte_min)\n",
    "        L.remove(carte_min)\n",
    "    return liste_triee\n",
    "\n",
    "ma_liste = [5, 4, 8, 5, 8, 10, 1, 3, 6, 6, 2, 3, 9]\n",
    "tri_selection(ma_liste, True)"
   ]
  },
  {
   "cell_type": "markdown",
   "metadata": {},
   "source": [
    "- et 2 pbs en suspens"
   ]
  },
  {
   "cell_type": "code",
   "execution_count": 39,
   "metadata": {},
   "outputs": [
    {
     "data": {
      "text/plain": [
       "[1, 2, 3]"
      ]
     },
     "execution_count": 39,
     "metadata": {},
     "output_type": "execute_result"
    }
   ],
   "source": [
    "# Pb 1\n",
    "#\n",
    "# Implémentation du tri par sélection (utilisant fonction min())\n",
    "def tri_selection(L, demo = False):\n",
    "    min_L=[]\n",
    "    for e in range(len(L)):\n",
    "        if e == min(L):\n",
    "            min_L.append(e)\n",
    "            L.remove(min(L))\n",
    "    return(min_L)\n",
    "\n",
    "ma_liste = [5, 4, 8, 5, 8, 10, 1, 3, 6, 6, 2, 3, 9]\n",
    "tri_selection(ma_liste, True)"
   ]
  },
  {
   "cell_type": "code",
   "execution_count": 40,
   "metadata": {},
   "outputs": [
    {
     "name": "stdout",
     "output_type": "stream",
     "text": [
      "c'est ma nouvelle liste [1, 2, 3, 3, 4, 5, 5]\n"
     ]
    }
   ],
   "source": [
    "# Pb 2\n",
    "#\n",
    "# Implémentation du tri par sélection (utilisant fonction min())\n",
    "def tri_selection(L, demo = False):\n",
    "\n",
    "    nouvelle_liste = []\n",
    "\n",
    "    for i in L:\n",
    "        vmin = min(L)\n",
    "        nouvelle_liste.append(vmin)\n",
    "        L.remove(vmin)\n",
    "\n",
    "    print(\"c'est ma nouvelle liste\", nouvelle_liste)\n",
    "\n",
    "ma_liste = [5, 4, 8, 5, 8, 10, 1, 3, 6, 6, 2, 3, 9]\n",
    "tri_selection(ma_liste, True)"
   ]
  },
  {
   "cell_type": "code",
   "execution_count": null,
   "metadata": {},
   "outputs": [],
   "source": []
  },
  {
   "cell_type": "code",
   "execution_count": null,
   "metadata": {},
   "outputs": [],
   "source": []
  },
  {
   "cell_type": "code",
   "execution_count": null,
   "metadata": {},
   "outputs": [],
   "source": []
  },
  {
   "cell_type": "code",
   "execution_count": null,
   "metadata": {},
   "outputs": [],
   "source": []
  },
  {
   "cell_type": "code",
   "execution_count": null,
   "metadata": {},
   "outputs": [],
   "source": []
  },
  {
   "cell_type": "code",
   "execution_count": null,
   "metadata": {},
   "outputs": [],
   "source": []
  },
  {
   "cell_type": "code",
   "execution_count": null,
   "metadata": {},
   "outputs": [],
   "source": []
  },
  {
   "cell_type": "markdown",
   "metadata": {},
   "source": [
    "#### Reprise milieu semaine 4"
   ]
  },
  {
   "cell_type": "code",
   "execution_count": 41,
   "metadata": {},
   "outputs": [
    {
     "data": {
      "text/plain": [
       "[1, 2, 3, 3, 4, 5, 5, 6, 6, 8, 8, 9, 10]"
      ]
     },
     "execution_count": 41,
     "metadata": {},
     "output_type": "execute_result"
    }
   ],
   "source": [
    "# While / Jordan\n",
    "#\n",
    "# Implémentation du tri par sélection (utilisant fonction min())\n",
    "def tri_selection(L, demo = False):\n",
    "    liste_triee = []\n",
    "    while len(L) > 0:\n",
    "        carte_min = min(L)\n",
    "        liste_triee.append(carte_min)\n",
    "        L.remove(carte_min)\n",
    "    return liste_triee\n",
    "\n",
    "# ma_liste = ['E', 'C', 'D', 'D', 'A', 'B', 'E', 'F']\n",
    "ma_liste = [5, 4, 8, 5, 8, 10, 1, 3, 6, 6, 2, 3, 9]\n",
    "tri_selection(ma_liste)"
   ]
  },
  {
   "cell_type": "code",
   "execution_count": 42,
   "metadata": {},
   "outputs": [
    {
     "data": {
      "text/plain": [
       "['A', 'B', 'C', 'D', 'D', 'E', 'E', 'F']"
      ]
     },
     "execution_count": 42,
     "metadata": {},
     "output_type": "execute_result"
    }
   ],
   "source": [
    "ma_liste = ['E', 'C', 'D', 'D', 'A', 'B', 'E', 'F']\n",
    "tri_selection(ma_liste)"
   ]
  },
  {
   "cell_type": "code",
   "execution_count": null,
   "metadata": {},
   "outputs": [],
   "source": []
  },
  {
   "cell_type": "code",
   "execution_count": 43,
   "metadata": {},
   "outputs": [
    {
     "data": {
      "text/plain": [
       "[1, 2, 3]"
      ]
     },
     "execution_count": 43,
     "metadata": {},
     "output_type": "execute_result"
    }
   ],
   "source": [
    "# Pb 1\n",
    "#\n",
    "# Implémentation du tri par sélection (utilisant fonction min())\n",
    "def tri_selection(L, demo = False):\n",
    "    min_L=[]\n",
    "    for e in range(len(L)):\n",
    "        if e == min(L):\n",
    "            min_L.append(e)\n",
    "            L.remove(min(L))\n",
    "    return(min_L)\n",
    "\n",
    "# ma_liste = ['E', 'C', 'D', 'D', 'A', 'B', 'E', 'F']\n",
    "ma_liste = [5, 4, 8, 5, 8, 10, 1, 3, 6, 6, 2, 3, 9]\n",
    "tri_selection(ma_liste)"
   ]
  },
  {
   "cell_type": "code",
   "execution_count": 44,
   "metadata": {},
   "outputs": [
    {
     "data": {
      "text/plain": [
       "[]"
      ]
     },
     "execution_count": 44,
     "metadata": {},
     "output_type": "execute_result"
    }
   ],
   "source": [
    "ma_liste = ['E', 'C', 'D', 'D', 'A', 'B', 'E', 'F']\n",
    "tri_selection(ma_liste)"
   ]
  },
  {
   "cell_type": "code",
   "execution_count": 45,
   "metadata": {},
   "outputs": [
    {
     "name": "stdout",
     "output_type": "stream",
     "text": [
      "c'est ma nouvelle liste [1, 2, 3, 3, 4, 5, 5]\n"
     ]
    }
   ],
   "source": [
    "# Pb 2\n",
    "#\n",
    "# Implémentation du tri par sélection (utilisant fonction min())\n",
    "def tri_selection(L, demo = False):\n",
    "\n",
    "    nouvelle_liste = []\n",
    "\n",
    "    # for i in range(len(L)):\n",
    "    for e in L:\n",
    "        vmin = min(L)\n",
    "        nouvelle_liste.append(vmin)\n",
    "        L.remove(vmin)\n",
    "\n",
    "    print(\"c'est ma nouvelle liste\", nouvelle_liste)\n",
    "\n",
    "# ma_liste = ['E', 'C', 'D', 'D', 'A', 'B', 'E', 'F']\n",
    "ma_liste = [5, 4, 8, 5, 8, 10, 1, 3, 6, 6, 2, 3, 9]\n",
    "tri_selection(ma_liste)"
   ]
  },
  {
   "cell_type": "code",
   "execution_count": 46,
   "metadata": {},
   "outputs": [
    {
     "name": "stdout",
     "output_type": "stream",
     "text": [
      "c'est ma nouvelle liste ['A', 'B', 'C', 'D']\n"
     ]
    }
   ],
   "source": [
    "ma_liste = ['E', 'C', 'D', 'D', 'A', 'B', 'E', 'F']\n",
    "tri_selection(ma_liste, True)"
   ]
  },
  {
   "cell_type": "code",
   "execution_count": null,
   "metadata": {},
   "outputs": [],
   "source": []
  },
  {
   "cell_type": "markdown",
   "metadata": {},
   "source": [
    "## Demo sous Python Tutor"
   ]
  },
  {
   "cell_type": "code",
   "execution_count": null,
   "metadata": {},
   "outputs": [],
   "source": []
  },
  {
   "cell_type": "markdown",
   "metadata": {},
   "source": [
    "---\n",
    "## Synthèse "
   ]
  },
  {
   "cell_type": "markdown",
   "metadata": {},
   "source": [
    "### 1. Attention au 2 formes de boucle `for`\n"
   ]
  },
  {
   "cell_type": "markdown",
   "metadata": {},
   "source": [
    "RAPPEL: 2 principales façons d'accéder aux différents éléments:  \n",
    "```python\n",
    "for e in ma_liste:\n",
    "    print(e)\n",
    "```\n",
    "ou\n",
    "```python\n",
    "for i in range(len(ma_liste)):\n",
    "    print(ma_liste[i])\n",
    "```\n",
    "\n",
    "    "
   ]
  },
  {
   "cell_type": "code",
   "execution_count": null,
   "metadata": {},
   "outputs": [],
   "source": []
  },
  {
   "cell_type": "markdown",
   "metadata": {},
   "source": [
    "Historiquement (Fortran, C, ...), seule la forme (2), reprise ci-dessous, existait :    \n",
    "```python\n",
    "# utilisation de la variable `i` pour indice (et aussi `j,k,l`` si nécessaire - Math oblige)  \n",
    "#\n",
    "# Lire: pour chaque indice i de la suite définie par range...\n",
    "for i in range(len(ma_liste)):\n",
    "    print(ma_liste[i])   # accès par indice\n",
    "```"
   ]
  },
  {
   "cell_type": "markdown",
   "metadata": {},
   "source": [
    "La version suivante est apparue plus tard avec Java, C# :  \n",
    "```python\n",
    "# utilisation de la variable `e` pour élement \n",
    "#\n",
    "# Lire: pour chaque élément e de la liste d'éléments `ma_liste` (forme générique)  \n",
    "for e in ma_liste:\n",
    "    print(e)   # accès à l'élément direct\n",
    "```\n",
    "\n",
    "On voit ainsi & aussi souvent des variantes telles que:  \n",
    "```python\n",
    "# Lire: pour chaque personne p de la liste de `personnes`  \n",
    "for p in personnes:\n",
    "    print(p)\n",
    "```\n",
    "où `personnes` représente une liste de personnes par exemple.\n",
    "    "
   ]
  },
  {
   "cell_type": "code",
   "execution_count": null,
   "metadata": {},
   "outputs": [],
   "source": []
  },
  {
   "cell_type": "markdown",
   "metadata": {},
   "source": [
    "### 2. Attention aux noms de variables en général\n",
    "```python\n",
    "def tri_selection(L, demo = False):\n",
    "    min_L=[]\n",
    "    for e in range(len(L)):\n",
    "        if e == min(L):\n",
    "            min_L.append(e)\n",
    "            L.remove(min(L))\n",
    "    return(min_L)\n",
    "```\n",
    "\n"
   ]
  },
  {
   "cell_type": "code",
   "execution_count": null,
   "metadata": {},
   "outputs": [],
   "source": []
  },
  {
   "cell_type": "markdown",
   "metadata": {},
   "source": [
    "### 3. Python Tutor est un outil en ligne génial !\n",
    "Bien plus simple et éclairant que le débuggage à \"l'ancienne\"\n"
   ]
  },
  {
   "cell_type": "code",
   "execution_count": null,
   "metadata": {},
   "outputs": [],
   "source": []
  },
  {
   "cell_type": "markdown",
   "metadata": {},
   "source": [
    "### 4. Il faut savoir prendre du recul / aller prendre l'air quand ça bloque !\n"
   ]
  },
  {
   "cell_type": "code",
   "execution_count": null,
   "metadata": {},
   "outputs": [],
   "source": []
  },
  {
   "cell_type": "code",
   "execution_count": null,
   "metadata": {},
   "outputs": [],
   "source": []
  },
  {
   "cell_type": "code",
   "execution_count": null,
   "metadata": {},
   "outputs": [],
   "source": []
  },
  {
   "cell_type": "code",
   "execution_count": null,
   "metadata": {},
   "outputs": [],
   "source": []
  },
  {
   "cell_type": "markdown",
   "metadata": {},
   "source": [
    "---"
   ]
  },
  {
   "cell_type": "markdown",
   "metadata": {},
   "source": [
    "### Tri à bulles (ou tri par propagation)"
   ]
  },
  {
   "cell_type": "markdown",
   "metadata": {},
   "source": [
    "> **Démo avec jeux de cartes**"
   ]
  },
  {
   "cell_type": "markdown",
   "metadata": {},
   "source": [
    "Autre illustration (Source: [wikipedia](https://en.wikipedia.org/wiki/Bubble_sort))  "
   ]
  },
  {
   "cell_type": "markdown",
   "metadata": {},
   "source": [
    "![Tri à Bulles](./img/bubble-sort.gif)  \n"
   ]
  },
  {
   "cell_type": "markdown",
   "metadata": {},
   "source": [
    "TO DO: Décrivez l'algorithme du tri à bulles en pseudo-code:  \n",
    "\n",
    "  \n",
    "  \n",
    "  \n",
    "--"
   ]
  },
  {
   "cell_type": "code",
   "execution_count": 47,
   "metadata": {},
   "outputs": [],
   "source": [
    "# Implémentation\n",
    "def tri_bulles(L, demo = False):\n",
    "    pass"
   ]
  },
  {
   "cell_type": "code",
   "execution_count": 48,
   "metadata": {},
   "outputs": [],
   "source": [
    "# Implémentation\n",
    "# Mayel\n",
    "def tri_bulles(L, demo = False):\n",
    "    for i in range(len(L)):\n",
    "        for j in range(len(L) - 1):\n",
    "            if L[i] < L[j]:\n",
    "                L[i], L[j] = L[j], L[i]\n",
    "    return L"
   ]
  },
  {
   "cell_type": "code",
   "execution_count": 49,
   "metadata": {},
   "outputs": [
    {
     "data": {
      "text/plain": [
       "[1, 2, 3, 3, 4, 5, 5, 6, 6, 8, 8, 9, 10]"
      ]
     },
     "execution_count": 49,
     "metadata": {},
     "output_type": "execute_result"
    }
   ],
   "source": [
    "ma_liste = [5, 4, 8, 5, 8, 10, 1, 3, 6, 6, 2, 3, 9]\n",
    "tri_bulles(ma_liste)"
   ]
  },
  {
   "cell_type": "code",
   "execution_count": null,
   "metadata": {},
   "outputs": [],
   "source": []
  },
  {
   "cell_type": "code",
   "execution_count": 50,
   "metadata": {},
   "outputs": [],
   "source": [
    "# Implémentation\n",
    "# Yoann / juste une seule passe !\n",
    "def tri_bulles(L, demo = False):\n",
    "    for i in range(len(L)-1):\n",
    "            if L[i] > L[i+1]:\n",
    "                L[i], L[i+1] = L[i+1], L[i]\n",
    "    return L"
   ]
  },
  {
   "cell_type": "code",
   "execution_count": 51,
   "metadata": {},
   "outputs": [
    {
     "data": {
      "text/plain": [
       "[4, 5, 5, 8, 8, 1, 3, 6, 6, 2, 3, 9, 10]"
      ]
     },
     "execution_count": 51,
     "metadata": {},
     "output_type": "execute_result"
    }
   ],
   "source": [
    "ma_liste = [5, 4, 8, 5, 8, 10, 1, 3, 6, 6, 2, 3, 9]\n",
    "tri_bulles(ma_liste, demo = True)"
   ]
  },
  {
   "cell_type": "code",
   "execution_count": null,
   "metadata": {},
   "outputs": [],
   "source": []
  },
  {
   "cell_type": "code",
   "execution_count": null,
   "metadata": {},
   "outputs": [],
   "source": []
  },
  {
   "cell_type": "code",
   "execution_count": null,
   "metadata": {},
   "outputs": [],
   "source": []
  },
  {
   "cell_type": "code",
   "execution_count": 52,
   "metadata": {},
   "outputs": [],
   "source": [
    "# Implémentation algo tri à bulles wikipedia fr\n",
    "# avec mode demo\n",
    "#\n",
    "def tri_bulles(L, demo = False):\n",
    "    n = len(L)\n",
    "    \n",
    "    compteur = 0\n",
    "    if demo:\n",
    "        print(\"{:3d}: {}\".format(compteur, L))\n",
    "    \n",
    "    # Traverser tous les éléments du tableau\n",
    "    nswap = 0\n",
    "    for i in range(n, 1, -1):\n",
    "        if demo:\n",
    "            print(\"Passe sur\", i, \"cartes ( de 0 à\", i - 1, \")\")\n",
    "        for j in range(0, i-1):\n",
    "            compteur += 1\n",
    "            # échanger si l'élément trouvé est plus grand que le suivant\n",
    "            if L[j] > L[j+1] :\n",
    "                nswap += 1\n",
    "                L[j], L[j+1] = L[j+1], L[j]\n",
    "            if demo:\n",
    "                print(f\"{compteur:3d}: {L[:i]} / {L[i:]}\")\n",
    "    if demo:\n",
    "        print(\"niterations =\", compteur, \"nswap =\", nswap)\n",
    "    return L"
   ]
  },
  {
   "cell_type": "code",
   "execution_count": 53,
   "metadata": {},
   "outputs": [
    {
     "data": {
      "text/plain": [
       "[1, 2, 3, 3, 4, 5, 5, 6, 6, 8, 8, 9, 10]"
      ]
     },
     "execution_count": 53,
     "metadata": {},
     "output_type": "execute_result"
    }
   ],
   "source": [
    "ma_liste = [5, 4, 8, 5, 8, 10, 1, 3, 6, 6, 2, 3, 9]\n",
    "tri_bulles(ma_liste, demo = False)"
   ]
  },
  {
   "cell_type": "code",
   "execution_count": 54,
   "metadata": {},
   "outputs": [
    {
     "name": "stdout",
     "output_type": "stream",
     "text": [
      "  0: [5, 4, 8, 5, 8, 10, 1, 3, 6, 6, 2, 3, 9]\n",
      "Passe sur 13 cartes ( de 0 à 12 )\n",
      "  1: [4, 5, 8, 5, 8, 10, 1, 3, 6, 6, 2, 3, 9] / []\n",
      "  2: [4, 5, 8, 5, 8, 10, 1, 3, 6, 6, 2, 3, 9] / []\n",
      "  3: [4, 5, 5, 8, 8, 10, 1, 3, 6, 6, 2, 3, 9] / []\n",
      "  4: [4, 5, 5, 8, 8, 10, 1, 3, 6, 6, 2, 3, 9] / []\n",
      "  5: [4, 5, 5, 8, 8, 10, 1, 3, 6, 6, 2, 3, 9] / []\n",
      "  6: [4, 5, 5, 8, 8, 1, 10, 3, 6, 6, 2, 3, 9] / []\n",
      "  7: [4, 5, 5, 8, 8, 1, 3, 10, 6, 6, 2, 3, 9] / []\n",
      "  8: [4, 5, 5, 8, 8, 1, 3, 6, 10, 6, 2, 3, 9] / []\n",
      "  9: [4, 5, 5, 8, 8, 1, 3, 6, 6, 10, 2, 3, 9] / []\n",
      " 10: [4, 5, 5, 8, 8, 1, 3, 6, 6, 2, 10, 3, 9] / []\n",
      " 11: [4, 5, 5, 8, 8, 1, 3, 6, 6, 2, 3, 10, 9] / []\n",
      " 12: [4, 5, 5, 8, 8, 1, 3, 6, 6, 2, 3, 9, 10] / []\n",
      "Passe sur 12 cartes ( de 0 à 11 )\n",
      " 13: [4, 5, 5, 8, 8, 1, 3, 6, 6, 2, 3, 9] / [10]\n",
      " 14: [4, 5, 5, 8, 8, 1, 3, 6, 6, 2, 3, 9] / [10]\n",
      " 15: [4, 5, 5, 8, 8, 1, 3, 6, 6, 2, 3, 9] / [10]\n",
      " 16: [4, 5, 5, 8, 8, 1, 3, 6, 6, 2, 3, 9] / [10]\n",
      " 17: [4, 5, 5, 8, 1, 8, 3, 6, 6, 2, 3, 9] / [10]\n",
      " 18: [4, 5, 5, 8, 1, 3, 8, 6, 6, 2, 3, 9] / [10]\n",
      " 19: [4, 5, 5, 8, 1, 3, 6, 8, 6, 2, 3, 9] / [10]\n",
      " 20: [4, 5, 5, 8, 1, 3, 6, 6, 8, 2, 3, 9] / [10]\n",
      " 21: [4, 5, 5, 8, 1, 3, 6, 6, 2, 8, 3, 9] / [10]\n",
      " 22: [4, 5, 5, 8, 1, 3, 6, 6, 2, 3, 8, 9] / [10]\n",
      " 23: [4, 5, 5, 8, 1, 3, 6, 6, 2, 3, 8, 9] / [10]\n",
      "Passe sur 11 cartes ( de 0 à 10 )\n",
      " 24: [4, 5, 5, 8, 1, 3, 6, 6, 2, 3, 8] / [9, 10]\n",
      " 25: [4, 5, 5, 8, 1, 3, 6, 6, 2, 3, 8] / [9, 10]\n",
      " 26: [4, 5, 5, 8, 1, 3, 6, 6, 2, 3, 8] / [9, 10]\n",
      " 27: [4, 5, 5, 1, 8, 3, 6, 6, 2, 3, 8] / [9, 10]\n",
      " 28: [4, 5, 5, 1, 3, 8, 6, 6, 2, 3, 8] / [9, 10]\n",
      " 29: [4, 5, 5, 1, 3, 6, 8, 6, 2, 3, 8] / [9, 10]\n",
      " 30: [4, 5, 5, 1, 3, 6, 6, 8, 2, 3, 8] / [9, 10]\n",
      " 31: [4, 5, 5, 1, 3, 6, 6, 2, 8, 3, 8] / [9, 10]\n",
      " 32: [4, 5, 5, 1, 3, 6, 6, 2, 3, 8, 8] / [9, 10]\n",
      " 33: [4, 5, 5, 1, 3, 6, 6, 2, 3, 8, 8] / [9, 10]\n",
      "Passe sur 10 cartes ( de 0 à 9 )\n",
      " 34: [4, 5, 5, 1, 3, 6, 6, 2, 3, 8] / [8, 9, 10]\n",
      " 35: [4, 5, 5, 1, 3, 6, 6, 2, 3, 8] / [8, 9, 10]\n",
      " 36: [4, 5, 1, 5, 3, 6, 6, 2, 3, 8] / [8, 9, 10]\n",
      " 37: [4, 5, 1, 3, 5, 6, 6, 2, 3, 8] / [8, 9, 10]\n",
      " 38: [4, 5, 1, 3, 5, 6, 6, 2, 3, 8] / [8, 9, 10]\n",
      " 39: [4, 5, 1, 3, 5, 6, 6, 2, 3, 8] / [8, 9, 10]\n",
      " 40: [4, 5, 1, 3, 5, 6, 2, 6, 3, 8] / [8, 9, 10]\n",
      " 41: [4, 5, 1, 3, 5, 6, 2, 3, 6, 8] / [8, 9, 10]\n",
      " 42: [4, 5, 1, 3, 5, 6, 2, 3, 6, 8] / [8, 9, 10]\n",
      "Passe sur 9 cartes ( de 0 à 8 )\n",
      " 43: [4, 5, 1, 3, 5, 6, 2, 3, 6] / [8, 8, 9, 10]\n",
      " 44: [4, 1, 5, 3, 5, 6, 2, 3, 6] / [8, 8, 9, 10]\n",
      " 45: [4, 1, 3, 5, 5, 6, 2, 3, 6] / [8, 8, 9, 10]\n",
      " 46: [4, 1, 3, 5, 5, 6, 2, 3, 6] / [8, 8, 9, 10]\n",
      " 47: [4, 1, 3, 5, 5, 6, 2, 3, 6] / [8, 8, 9, 10]\n",
      " 48: [4, 1, 3, 5, 5, 2, 6, 3, 6] / [8, 8, 9, 10]\n",
      " 49: [4, 1, 3, 5, 5, 2, 3, 6, 6] / [8, 8, 9, 10]\n",
      " 50: [4, 1, 3, 5, 5, 2, 3, 6, 6] / [8, 8, 9, 10]\n",
      "Passe sur 8 cartes ( de 0 à 7 )\n",
      " 51: [1, 4, 3, 5, 5, 2, 3, 6] / [6, 8, 8, 9, 10]\n",
      " 52: [1, 3, 4, 5, 5, 2, 3, 6] / [6, 8, 8, 9, 10]\n",
      " 53: [1, 3, 4, 5, 5, 2, 3, 6] / [6, 8, 8, 9, 10]\n",
      " 54: [1, 3, 4, 5, 5, 2, 3, 6] / [6, 8, 8, 9, 10]\n",
      " 55: [1, 3, 4, 5, 2, 5, 3, 6] / [6, 8, 8, 9, 10]\n",
      " 56: [1, 3, 4, 5, 2, 3, 5, 6] / [6, 8, 8, 9, 10]\n",
      " 57: [1, 3, 4, 5, 2, 3, 5, 6] / [6, 8, 8, 9, 10]\n",
      "Passe sur 7 cartes ( de 0 à 6 )\n",
      " 58: [1, 3, 4, 5, 2, 3, 5] / [6, 6, 8, 8, 9, 10]\n",
      " 59: [1, 3, 4, 5, 2, 3, 5] / [6, 6, 8, 8, 9, 10]\n",
      " 60: [1, 3, 4, 5, 2, 3, 5] / [6, 6, 8, 8, 9, 10]\n",
      " 61: [1, 3, 4, 2, 5, 3, 5] / [6, 6, 8, 8, 9, 10]\n",
      " 62: [1, 3, 4, 2, 3, 5, 5] / [6, 6, 8, 8, 9, 10]\n",
      " 63: [1, 3, 4, 2, 3, 5, 5] / [6, 6, 8, 8, 9, 10]\n",
      "Passe sur 6 cartes ( de 0 à 5 )\n",
      " 64: [1, 3, 4, 2, 3, 5] / [5, 6, 6, 8, 8, 9, 10]\n",
      " 65: [1, 3, 4, 2, 3, 5] / [5, 6, 6, 8, 8, 9, 10]\n",
      " 66: [1, 3, 2, 4, 3, 5] / [5, 6, 6, 8, 8, 9, 10]\n",
      " 67: [1, 3, 2, 3, 4, 5] / [5, 6, 6, 8, 8, 9, 10]\n",
      " 68: [1, 3, 2, 3, 4, 5] / [5, 6, 6, 8, 8, 9, 10]\n",
      "Passe sur 5 cartes ( de 0 à 4 )\n",
      " 69: [1, 3, 2, 3, 4] / [5, 5, 6, 6, 8, 8, 9, 10]\n",
      " 70: [1, 2, 3, 3, 4] / [5, 5, 6, 6, 8, 8, 9, 10]\n",
      " 71: [1, 2, 3, 3, 4] / [5, 5, 6, 6, 8, 8, 9, 10]\n",
      " 72: [1, 2, 3, 3, 4] / [5, 5, 6, 6, 8, 8, 9, 10]\n",
      "Passe sur 4 cartes ( de 0 à 3 )\n",
      " 73: [1, 2, 3, 3] / [4, 5, 5, 6, 6, 8, 8, 9, 10]\n",
      " 74: [1, 2, 3, 3] / [4, 5, 5, 6, 6, 8, 8, 9, 10]\n",
      " 75: [1, 2, 3, 3] / [4, 5, 5, 6, 6, 8, 8, 9, 10]\n",
      "Passe sur 3 cartes ( de 0 à 2 )\n",
      " 76: [1, 2, 3] / [3, 4, 5, 5, 6, 6, 8, 8, 9, 10]\n",
      " 77: [1, 2, 3] / [3, 4, 5, 5, 6, 6, 8, 8, 9, 10]\n",
      "Passe sur 2 cartes ( de 0 à 1 )\n",
      " 78: [1, 2] / [3, 3, 4, 5, 5, 6, 6, 8, 8, 9, 10]\n",
      "niterations = 78 nswap = 38\n"
     ]
    },
    {
     "data": {
      "text/plain": [
       "[1, 2, 3, 3, 4, 5, 5, 6, 6, 8, 8, 9, 10]"
      ]
     },
     "execution_count": 54,
     "metadata": {},
     "output_type": "execute_result"
    }
   ],
   "source": [
    "ma_liste = [5, 4, 8, 5, 8, 10, 1, 3, 6, 6, 2, 3, 9]\n",
    "tri_bulles(ma_liste, demo = True)"
   ]
  },
  {
   "cell_type": "code",
   "execution_count": null,
   "metadata": {},
   "outputs": [],
   "source": []
  },
  {
   "cell_type": "markdown",
   "metadata": {},
   "source": [
    "#### Pire / Meilleur Cas"
   ]
  },
  {
   "cell_type": "code",
   "execution_count": 55,
   "metadata": {},
   "outputs": [
    {
     "name": "stdout",
     "output_type": "stream",
     "text": [
      "10 [10, 9, 8, 7, 6, 5, 4, 3, 2, 1]\n"
     ]
    }
   ],
   "source": [
    "pire_cas = [i for i in range(10, 0, -1)]\n",
    "print(len(pire_cas), pire_cas)"
   ]
  },
  {
   "cell_type": "code",
   "execution_count": 56,
   "metadata": {},
   "outputs": [
    {
     "name": "stdout",
     "output_type": "stream",
     "text": [
      "  0: [10, 9, 8, 7, 6, 5, 4, 3, 2, 1]\n",
      "Passe sur 10 cartes ( de 0 à 9 )\n",
      "  1: [9, 10, 8, 7, 6, 5, 4, 3, 2, 1] / []\n",
      "  2: [9, 8, 10, 7, 6, 5, 4, 3, 2, 1] / []\n",
      "  3: [9, 8, 7, 10, 6, 5, 4, 3, 2, 1] / []\n",
      "  4: [9, 8, 7, 6, 10, 5, 4, 3, 2, 1] / []\n",
      "  5: [9, 8, 7, 6, 5, 10, 4, 3, 2, 1] / []\n",
      "  6: [9, 8, 7, 6, 5, 4, 10, 3, 2, 1] / []\n",
      "  7: [9, 8, 7, 6, 5, 4, 3, 10, 2, 1] / []\n",
      "  8: [9, 8, 7, 6, 5, 4, 3, 2, 10, 1] / []\n",
      "  9: [9, 8, 7, 6, 5, 4, 3, 2, 1, 10] / []\n",
      "Passe sur 9 cartes ( de 0 à 8 )\n",
      " 10: [8, 9, 7, 6, 5, 4, 3, 2, 1] / [10]\n",
      " 11: [8, 7, 9, 6, 5, 4, 3, 2, 1] / [10]\n",
      " 12: [8, 7, 6, 9, 5, 4, 3, 2, 1] / [10]\n",
      " 13: [8, 7, 6, 5, 9, 4, 3, 2, 1] / [10]\n",
      " 14: [8, 7, 6, 5, 4, 9, 3, 2, 1] / [10]\n",
      " 15: [8, 7, 6, 5, 4, 3, 9, 2, 1] / [10]\n",
      " 16: [8, 7, 6, 5, 4, 3, 2, 9, 1] / [10]\n",
      " 17: [8, 7, 6, 5, 4, 3, 2, 1, 9] / [10]\n",
      "Passe sur 8 cartes ( de 0 à 7 )\n",
      " 18: [7, 8, 6, 5, 4, 3, 2, 1] / [9, 10]\n",
      " 19: [7, 6, 8, 5, 4, 3, 2, 1] / [9, 10]\n",
      " 20: [7, 6, 5, 8, 4, 3, 2, 1] / [9, 10]\n",
      " 21: [7, 6, 5, 4, 8, 3, 2, 1] / [9, 10]\n",
      " 22: [7, 6, 5, 4, 3, 8, 2, 1] / [9, 10]\n",
      " 23: [7, 6, 5, 4, 3, 2, 8, 1] / [9, 10]\n",
      " 24: [7, 6, 5, 4, 3, 2, 1, 8] / [9, 10]\n",
      "Passe sur 7 cartes ( de 0 à 6 )\n",
      " 25: [6, 7, 5, 4, 3, 2, 1] / [8, 9, 10]\n",
      " 26: [6, 5, 7, 4, 3, 2, 1] / [8, 9, 10]\n",
      " 27: [6, 5, 4, 7, 3, 2, 1] / [8, 9, 10]\n",
      " 28: [6, 5, 4, 3, 7, 2, 1] / [8, 9, 10]\n",
      " 29: [6, 5, 4, 3, 2, 7, 1] / [8, 9, 10]\n",
      " 30: [6, 5, 4, 3, 2, 1, 7] / [8, 9, 10]\n",
      "Passe sur 6 cartes ( de 0 à 5 )\n",
      " 31: [5, 6, 4, 3, 2, 1] / [7, 8, 9, 10]\n",
      " 32: [5, 4, 6, 3, 2, 1] / [7, 8, 9, 10]\n",
      " 33: [5, 4, 3, 6, 2, 1] / [7, 8, 9, 10]\n",
      " 34: [5, 4, 3, 2, 6, 1] / [7, 8, 9, 10]\n",
      " 35: [5, 4, 3, 2, 1, 6] / [7, 8, 9, 10]\n",
      "Passe sur 5 cartes ( de 0 à 4 )\n",
      " 36: [4, 5, 3, 2, 1] / [6, 7, 8, 9, 10]\n",
      " 37: [4, 3, 5, 2, 1] / [6, 7, 8, 9, 10]\n",
      " 38: [4, 3, 2, 5, 1] / [6, 7, 8, 9, 10]\n",
      " 39: [4, 3, 2, 1, 5] / [6, 7, 8, 9, 10]\n",
      "Passe sur 4 cartes ( de 0 à 3 )\n",
      " 40: [3, 4, 2, 1] / [5, 6, 7, 8, 9, 10]\n",
      " 41: [3, 2, 4, 1] / [5, 6, 7, 8, 9, 10]\n",
      " 42: [3, 2, 1, 4] / [5, 6, 7, 8, 9, 10]\n",
      "Passe sur 3 cartes ( de 0 à 2 )\n",
      " 43: [2, 3, 1] / [4, 5, 6, 7, 8, 9, 10]\n",
      " 44: [2, 1, 3] / [4, 5, 6, 7, 8, 9, 10]\n",
      "Passe sur 2 cartes ( de 0 à 1 )\n",
      " 45: [1, 2] / [3, 4, 5, 6, 7, 8, 9, 10]\n",
      "niterations = 45 nswap = 45\n"
     ]
    },
    {
     "data": {
      "text/plain": [
       "[1, 2, 3, 4, 5, 6, 7, 8, 9, 10]"
      ]
     },
     "execution_count": 56,
     "metadata": {},
     "output_type": "execute_result"
    }
   ],
   "source": [
    "tri_bulles(pire_cas, True)"
   ]
  },
  {
   "cell_type": "code",
   "execution_count": null,
   "metadata": {},
   "outputs": [],
   "source": []
  },
  {
   "cell_type": "code",
   "execution_count": 57,
   "metadata": {},
   "outputs": [
    {
     "name": "stdout",
     "output_type": "stream",
     "text": [
      "10 [1, 2, 3, 4, 5, 6, 7, 8, 9, 10]\n"
     ]
    }
   ],
   "source": [
    "meilleur_cas = [i for i in range(1,11)]\n",
    "print(len(pire_cas), meilleur_cas)"
   ]
  },
  {
   "cell_type": "code",
   "execution_count": 58,
   "metadata": {},
   "outputs": [
    {
     "name": "stdout",
     "output_type": "stream",
     "text": [
      "  0: [1, 2, 3, 4, 5, 6, 7, 8, 9, 10]\n",
      "Passe sur 10 cartes ( de 0 à 9 )\n",
      "  1: [1, 2, 3, 4, 5, 6, 7, 8, 9, 10] / []\n",
      "  2: [1, 2, 3, 4, 5, 6, 7, 8, 9, 10] / []\n",
      "  3: [1, 2, 3, 4, 5, 6, 7, 8, 9, 10] / []\n",
      "  4: [1, 2, 3, 4, 5, 6, 7, 8, 9, 10] / []\n",
      "  5: [1, 2, 3, 4, 5, 6, 7, 8, 9, 10] / []\n",
      "  6: [1, 2, 3, 4, 5, 6, 7, 8, 9, 10] / []\n",
      "  7: [1, 2, 3, 4, 5, 6, 7, 8, 9, 10] / []\n",
      "  8: [1, 2, 3, 4, 5, 6, 7, 8, 9, 10] / []\n",
      "  9: [1, 2, 3, 4, 5, 6, 7, 8, 9, 10] / []\n",
      "Passe sur 9 cartes ( de 0 à 8 )\n",
      " 10: [1, 2, 3, 4, 5, 6, 7, 8, 9] / [10]\n",
      " 11: [1, 2, 3, 4, 5, 6, 7, 8, 9] / [10]\n",
      " 12: [1, 2, 3, 4, 5, 6, 7, 8, 9] / [10]\n",
      " 13: [1, 2, 3, 4, 5, 6, 7, 8, 9] / [10]\n",
      " 14: [1, 2, 3, 4, 5, 6, 7, 8, 9] / [10]\n",
      " 15: [1, 2, 3, 4, 5, 6, 7, 8, 9] / [10]\n",
      " 16: [1, 2, 3, 4, 5, 6, 7, 8, 9] / [10]\n",
      " 17: [1, 2, 3, 4, 5, 6, 7, 8, 9] / [10]\n",
      "Passe sur 8 cartes ( de 0 à 7 )\n",
      " 18: [1, 2, 3, 4, 5, 6, 7, 8] / [9, 10]\n",
      " 19: [1, 2, 3, 4, 5, 6, 7, 8] / [9, 10]\n",
      " 20: [1, 2, 3, 4, 5, 6, 7, 8] / [9, 10]\n",
      " 21: [1, 2, 3, 4, 5, 6, 7, 8] / [9, 10]\n",
      " 22: [1, 2, 3, 4, 5, 6, 7, 8] / [9, 10]\n",
      " 23: [1, 2, 3, 4, 5, 6, 7, 8] / [9, 10]\n",
      " 24: [1, 2, 3, 4, 5, 6, 7, 8] / [9, 10]\n",
      "Passe sur 7 cartes ( de 0 à 6 )\n",
      " 25: [1, 2, 3, 4, 5, 6, 7] / [8, 9, 10]\n",
      " 26: [1, 2, 3, 4, 5, 6, 7] / [8, 9, 10]\n",
      " 27: [1, 2, 3, 4, 5, 6, 7] / [8, 9, 10]\n",
      " 28: [1, 2, 3, 4, 5, 6, 7] / [8, 9, 10]\n",
      " 29: [1, 2, 3, 4, 5, 6, 7] / [8, 9, 10]\n",
      " 30: [1, 2, 3, 4, 5, 6, 7] / [8, 9, 10]\n",
      "Passe sur 6 cartes ( de 0 à 5 )\n",
      " 31: [1, 2, 3, 4, 5, 6] / [7, 8, 9, 10]\n",
      " 32: [1, 2, 3, 4, 5, 6] / [7, 8, 9, 10]\n",
      " 33: [1, 2, 3, 4, 5, 6] / [7, 8, 9, 10]\n",
      " 34: [1, 2, 3, 4, 5, 6] / [7, 8, 9, 10]\n",
      " 35: [1, 2, 3, 4, 5, 6] / [7, 8, 9, 10]\n",
      "Passe sur 5 cartes ( de 0 à 4 )\n",
      " 36: [1, 2, 3, 4, 5] / [6, 7, 8, 9, 10]\n",
      " 37: [1, 2, 3, 4, 5] / [6, 7, 8, 9, 10]\n",
      " 38: [1, 2, 3, 4, 5] / [6, 7, 8, 9, 10]\n",
      " 39: [1, 2, 3, 4, 5] / [6, 7, 8, 9, 10]\n",
      "Passe sur 4 cartes ( de 0 à 3 )\n",
      " 40: [1, 2, 3, 4] / [5, 6, 7, 8, 9, 10]\n",
      " 41: [1, 2, 3, 4] / [5, 6, 7, 8, 9, 10]\n",
      " 42: [1, 2, 3, 4] / [5, 6, 7, 8, 9, 10]\n",
      "Passe sur 3 cartes ( de 0 à 2 )\n",
      " 43: [1, 2, 3] / [4, 5, 6, 7, 8, 9, 10]\n",
      " 44: [1, 2, 3] / [4, 5, 6, 7, 8, 9, 10]\n",
      "Passe sur 2 cartes ( de 0 à 1 )\n",
      " 45: [1, 2] / [3, 4, 5, 6, 7, 8, 9, 10]\n",
      "niterations = 45 nswap = 0\n"
     ]
    },
    {
     "data": {
      "text/plain": [
       "[1, 2, 3, 4, 5, 6, 7, 8, 9, 10]"
      ]
     },
     "execution_count": 58,
     "metadata": {},
     "output_type": "execute_result"
    }
   ],
   "source": [
    "tri_bulles(meilleur_cas, True)"
   ]
  },
  {
   "cell_type": "code",
   "execution_count": null,
   "metadata": {},
   "outputs": [],
   "source": []
  },
  {
   "cell_type": "code",
   "execution_count": null,
   "metadata": {},
   "outputs": [],
   "source": []
  },
  {
   "cell_type": "code",
   "execution_count": null,
   "metadata": {},
   "outputs": [],
   "source": []
  },
  {
   "cell_type": "code",
   "execution_count": null,
   "metadata": {},
   "outputs": [],
   "source": []
  },
  {
   "cell_type": "code",
   "execution_count": 59,
   "metadata": {},
   "outputs": [
    {
     "data": {
      "text/plain": [
       "45"
      ]
     },
     "execution_count": 59,
     "metadata": {},
     "output_type": "execute_result"
    }
   ],
   "source": [
    "# Le nb d'itérations dans ce cas est: \n",
    "9 + 8 + 7 + 6 + 5 + 4 + 3 + 2 + 1\n",
    "# soit n * (n + 1) / 2"
   ]
  },
  {
   "cell_type": "code",
   "execution_count": 60,
   "metadata": {},
   "outputs": [
    {
     "data": {
      "text/plain": [
       "45"
      ]
     },
     "execution_count": 60,
     "metadata": {},
     "output_type": "execute_result"
    }
   ],
   "source": [
    "# Ce qui est égal à n * (n + 1) / 2  (Somme des n premiers entiers naturels)\n",
    "# avec ici n = 9\n",
    "9 * 10 // 2"
   ]
  },
  {
   "cell_type": "code",
   "execution_count": null,
   "metadata": {},
   "outputs": [],
   "source": []
  },
  {
   "cell_type": "markdown",
   "metadata": {},
   "source": [
    "### Tri à bulles optimisé\n",
    "TO DO: Imaginer ou rechercher sur internet une possibilité d'améliorer le tri à bulles"
   ]
  },
  {
   "cell_type": "code",
   "execution_count": 61,
   "metadata": {},
   "outputs": [],
   "source": [
    "def tri_bulles_optimise(L):\n",
    "    pass"
   ]
  },
  {
   "cell_type": "code",
   "execution_count": 62,
   "metadata": {},
   "outputs": [],
   "source": [
    "# Implémentation algo tri à bulles optimisé wikipedia fr\n",
    "# avec mode demo\n",
    "#\n",
    "def tri_bulles_optimise(L, demo = False):\n",
    "    n = len(L)\n",
    "    \n",
    "    compteur = 0\n",
    "    if demo:\n",
    "        print(\"{:3d}: {}\".format(compteur, L))\n",
    "    \n",
    "    # Traverser tous les éléments du tableau\n",
    "    nswap = 0\n",
    "    for i in range(n, 1, -1):\n",
    "        liste_triee = True\n",
    "        \n",
    "        if demo:\n",
    "            print(\"Passe sur\", i, \"cartes ( de 0 à\", i - 1, \")\")\n",
    "        \n",
    "        for j in range(0, i-1):\n",
    "            compteur += 1\n",
    "            # échanger si l'élément trouvé est plus grand que le suivant\n",
    "            if L[j] > L[j+1] :\n",
    "                nswap += 1\n",
    "                L[j], L[j+1] = L[j+1], L[j]\n",
    "                liste_triee = False\n",
    "\n",
    "            if demo:\n",
    "                print(f\"{compteur:3d}: {L[:i]} / {L[i:]}\")\n",
    "        \n",
    "        if liste_triee:\n",
    "            break\n",
    "                \n",
    "    if demo:\n",
    "        print(\"niterations =\", compteur, \"nswap =\", nswap)\n",
    "        \n",
    "    return L"
   ]
  },
  {
   "cell_type": "code",
   "execution_count": 63,
   "metadata": {},
   "outputs": [
    {
     "data": {
      "text/plain": [
       "[1, 2, 3, 3, 4, 5, 5, 6, 6, 8, 8, 9, 10]"
      ]
     },
     "execution_count": 63,
     "metadata": {},
     "output_type": "execute_result"
    }
   ],
   "source": [
    "ma_liste = [5, 4, 8, 5, 8, 10, 1, 3, 6, 6, 2, 3, 9]\n",
    "tri_bulles_optimise(ma_liste)"
   ]
  },
  {
   "cell_type": "code",
   "execution_count": null,
   "metadata": {},
   "outputs": [],
   "source": []
  },
  {
   "cell_type": "code",
   "execution_count": 64,
   "metadata": {},
   "outputs": [
    {
     "name": "stdout",
     "output_type": "stream",
     "text": [
      "10 [10, 9, 8, 7, 6, 5, 4, 3, 2, 1]\n",
      "10 [1, 2, 3, 4, 5, 6, 7, 8, 9, 10]\n"
     ]
    }
   ],
   "source": [
    "pire_cas = [i for i in range(10, 0, -1)]\n",
    "print(len(pire_cas), pire_cas)\n",
    "\n",
    "meilleur_cas = [i for i in range(1,11)]\n",
    "print(len(pire_cas), meilleur_cas)"
   ]
  },
  {
   "cell_type": "code",
   "execution_count": null,
   "metadata": {},
   "outputs": [],
   "source": []
  },
  {
   "cell_type": "code",
   "execution_count": 65,
   "metadata": {},
   "outputs": [
    {
     "name": "stdout",
     "output_type": "stream",
     "text": [
      "  0: [10, 9, 8, 7, 6, 5, 4, 3, 2, 1]\n",
      "Passe sur 10 cartes ( de 0 à 9 )\n",
      "  1: [9, 10, 8, 7, 6, 5, 4, 3, 2, 1] / []\n",
      "  2: [9, 8, 10, 7, 6, 5, 4, 3, 2, 1] / []\n",
      "  3: [9, 8, 7, 10, 6, 5, 4, 3, 2, 1] / []\n",
      "  4: [9, 8, 7, 6, 10, 5, 4, 3, 2, 1] / []\n",
      "  5: [9, 8, 7, 6, 5, 10, 4, 3, 2, 1] / []\n",
      "  6: [9, 8, 7, 6, 5, 4, 10, 3, 2, 1] / []\n",
      "  7: [9, 8, 7, 6, 5, 4, 3, 10, 2, 1] / []\n",
      "  8: [9, 8, 7, 6, 5, 4, 3, 2, 10, 1] / []\n",
      "  9: [9, 8, 7, 6, 5, 4, 3, 2, 1, 10] / []\n",
      "Passe sur 9 cartes ( de 0 à 8 )\n",
      " 10: [8, 9, 7, 6, 5, 4, 3, 2, 1] / [10]\n",
      " 11: [8, 7, 9, 6, 5, 4, 3, 2, 1] / [10]\n",
      " 12: [8, 7, 6, 9, 5, 4, 3, 2, 1] / [10]\n",
      " 13: [8, 7, 6, 5, 9, 4, 3, 2, 1] / [10]\n",
      " 14: [8, 7, 6, 5, 4, 9, 3, 2, 1] / [10]\n",
      " 15: [8, 7, 6, 5, 4, 3, 9, 2, 1] / [10]\n",
      " 16: [8, 7, 6, 5, 4, 3, 2, 9, 1] / [10]\n",
      " 17: [8, 7, 6, 5, 4, 3, 2, 1, 9] / [10]\n",
      "Passe sur 8 cartes ( de 0 à 7 )\n",
      " 18: [7, 8, 6, 5, 4, 3, 2, 1] / [9, 10]\n",
      " 19: [7, 6, 8, 5, 4, 3, 2, 1] / [9, 10]\n",
      " 20: [7, 6, 5, 8, 4, 3, 2, 1] / [9, 10]\n",
      " 21: [7, 6, 5, 4, 8, 3, 2, 1] / [9, 10]\n",
      " 22: [7, 6, 5, 4, 3, 8, 2, 1] / [9, 10]\n",
      " 23: [7, 6, 5, 4, 3, 2, 8, 1] / [9, 10]\n",
      " 24: [7, 6, 5, 4, 3, 2, 1, 8] / [9, 10]\n",
      "Passe sur 7 cartes ( de 0 à 6 )\n",
      " 25: [6, 7, 5, 4, 3, 2, 1] / [8, 9, 10]\n",
      " 26: [6, 5, 7, 4, 3, 2, 1] / [8, 9, 10]\n",
      " 27: [6, 5, 4, 7, 3, 2, 1] / [8, 9, 10]\n",
      " 28: [6, 5, 4, 3, 7, 2, 1] / [8, 9, 10]\n",
      " 29: [6, 5, 4, 3, 2, 7, 1] / [8, 9, 10]\n",
      " 30: [6, 5, 4, 3, 2, 1, 7] / [8, 9, 10]\n",
      "Passe sur 6 cartes ( de 0 à 5 )\n",
      " 31: [5, 6, 4, 3, 2, 1] / [7, 8, 9, 10]\n",
      " 32: [5, 4, 6, 3, 2, 1] / [7, 8, 9, 10]\n",
      " 33: [5, 4, 3, 6, 2, 1] / [7, 8, 9, 10]\n",
      " 34: [5, 4, 3, 2, 6, 1] / [7, 8, 9, 10]\n",
      " 35: [5, 4, 3, 2, 1, 6] / [7, 8, 9, 10]\n",
      "Passe sur 5 cartes ( de 0 à 4 )\n",
      " 36: [4, 5, 3, 2, 1] / [6, 7, 8, 9, 10]\n",
      " 37: [4, 3, 5, 2, 1] / [6, 7, 8, 9, 10]\n",
      " 38: [4, 3, 2, 5, 1] / [6, 7, 8, 9, 10]\n",
      " 39: [4, 3, 2, 1, 5] / [6, 7, 8, 9, 10]\n",
      "Passe sur 4 cartes ( de 0 à 3 )\n",
      " 40: [3, 4, 2, 1] / [5, 6, 7, 8, 9, 10]\n",
      " 41: [3, 2, 4, 1] / [5, 6, 7, 8, 9, 10]\n",
      " 42: [3, 2, 1, 4] / [5, 6, 7, 8, 9, 10]\n",
      "Passe sur 3 cartes ( de 0 à 2 )\n",
      " 43: [2, 3, 1] / [4, 5, 6, 7, 8, 9, 10]\n",
      " 44: [2, 1, 3] / [4, 5, 6, 7, 8, 9, 10]\n",
      "Passe sur 2 cartes ( de 0 à 1 )\n",
      " 45: [1, 2] / [3, 4, 5, 6, 7, 8, 9, 10]\n",
      "niterations = 45 nswap = 45\n"
     ]
    },
    {
     "data": {
      "text/plain": [
       "[1, 2, 3, 4, 5, 6, 7, 8, 9, 10]"
      ]
     },
     "execution_count": 65,
     "metadata": {},
     "output_type": "execute_result"
    }
   ],
   "source": [
    "tri_bulles_optimise(pire_cas, True)"
   ]
  },
  {
   "cell_type": "code",
   "execution_count": null,
   "metadata": {},
   "outputs": [],
   "source": []
  },
  {
   "cell_type": "code",
   "execution_count": 66,
   "metadata": {},
   "outputs": [
    {
     "name": "stdout",
     "output_type": "stream",
     "text": [
      "  0: [1, 2, 3, 4, 5, 6, 7, 8, 9, 10]\n",
      "Passe sur 10 cartes ( de 0 à 9 )\n",
      "  1: [1, 2, 3, 4, 5, 6, 7, 8, 9, 10] / []\n",
      "  2: [1, 2, 3, 4, 5, 6, 7, 8, 9, 10] / []\n",
      "  3: [1, 2, 3, 4, 5, 6, 7, 8, 9, 10] / []\n",
      "  4: [1, 2, 3, 4, 5, 6, 7, 8, 9, 10] / []\n",
      "  5: [1, 2, 3, 4, 5, 6, 7, 8, 9, 10] / []\n",
      "  6: [1, 2, 3, 4, 5, 6, 7, 8, 9, 10] / []\n",
      "  7: [1, 2, 3, 4, 5, 6, 7, 8, 9, 10] / []\n",
      "  8: [1, 2, 3, 4, 5, 6, 7, 8, 9, 10] / []\n",
      "  9: [1, 2, 3, 4, 5, 6, 7, 8, 9, 10] / []\n",
      "niterations = 9 nswap = 0\n"
     ]
    },
    {
     "data": {
      "text/plain": [
       "[1, 2, 3, 4, 5, 6, 7, 8, 9, 10]"
      ]
     },
     "execution_count": 66,
     "metadata": {},
     "output_type": "execute_result"
    }
   ],
   "source": [
    "tri_bulles_optimise(meilleur_cas, True)"
   ]
  },
  {
   "cell_type": "code",
   "execution_count": 67,
   "metadata": {},
   "outputs": [
    {
     "name": "stdout",
     "output_type": "stream",
     "text": [
      "  0: [1, 2, 3, 4, 5, 6, 7, 8, 9, 10]\n",
      "Passe sur 10 cartes ( de 0 à 9 )\n",
      "  1: [1, 2, 3, 4, 5, 6, 7, 8, 9, 10] / []\n",
      "  2: [1, 2, 3, 4, 5, 6, 7, 8, 9, 10] / []\n",
      "  3: [1, 2, 3, 4, 5, 6, 7, 8, 9, 10] / []\n",
      "  4: [1, 2, 3, 4, 5, 6, 7, 8, 9, 10] / []\n",
      "  5: [1, 2, 3, 4, 5, 6, 7, 8, 9, 10] / []\n",
      "  6: [1, 2, 3, 4, 5, 6, 7, 8, 9, 10] / []\n",
      "  7: [1, 2, 3, 4, 5, 6, 7, 8, 9, 10] / []\n",
      "  8: [1, 2, 3, 4, 5, 6, 7, 8, 9, 10] / []\n",
      "  9: [1, 2, 3, 4, 5, 6, 7, 8, 9, 10] / []\n",
      "Passe sur 9 cartes ( de 0 à 8 )\n",
      " 10: [1, 2, 3, 4, 5, 6, 7, 8, 9] / [10]\n",
      " 11: [1, 2, 3, 4, 5, 6, 7, 8, 9] / [10]\n",
      " 12: [1, 2, 3, 4, 5, 6, 7, 8, 9] / [10]\n",
      " 13: [1, 2, 3, 4, 5, 6, 7, 8, 9] / [10]\n",
      " 14: [1, 2, 3, 4, 5, 6, 7, 8, 9] / [10]\n",
      " 15: [1, 2, 3, 4, 5, 6, 7, 8, 9] / [10]\n",
      " 16: [1, 2, 3, 4, 5, 6, 7, 8, 9] / [10]\n",
      " 17: [1, 2, 3, 4, 5, 6, 7, 8, 9] / [10]\n",
      "Passe sur 8 cartes ( de 0 à 7 )\n",
      " 18: [1, 2, 3, 4, 5, 6, 7, 8] / [9, 10]\n",
      " 19: [1, 2, 3, 4, 5, 6, 7, 8] / [9, 10]\n",
      " 20: [1, 2, 3, 4, 5, 6, 7, 8] / [9, 10]\n",
      " 21: [1, 2, 3, 4, 5, 6, 7, 8] / [9, 10]\n",
      " 22: [1, 2, 3, 4, 5, 6, 7, 8] / [9, 10]\n",
      " 23: [1, 2, 3, 4, 5, 6, 7, 8] / [9, 10]\n",
      " 24: [1, 2, 3, 4, 5, 6, 7, 8] / [9, 10]\n",
      "Passe sur 7 cartes ( de 0 à 6 )\n",
      " 25: [1, 2, 3, 4, 5, 6, 7] / [8, 9, 10]\n",
      " 26: [1, 2, 3, 4, 5, 6, 7] / [8, 9, 10]\n",
      " 27: [1, 2, 3, 4, 5, 6, 7] / [8, 9, 10]\n",
      " 28: [1, 2, 3, 4, 5, 6, 7] / [8, 9, 10]\n",
      " 29: [1, 2, 3, 4, 5, 6, 7] / [8, 9, 10]\n",
      " 30: [1, 2, 3, 4, 5, 6, 7] / [8, 9, 10]\n",
      "Passe sur 6 cartes ( de 0 à 5 )\n",
      " 31: [1, 2, 3, 4, 5, 6] / [7, 8, 9, 10]\n",
      " 32: [1, 2, 3, 4, 5, 6] / [7, 8, 9, 10]\n",
      " 33: [1, 2, 3, 4, 5, 6] / [7, 8, 9, 10]\n",
      " 34: [1, 2, 3, 4, 5, 6] / [7, 8, 9, 10]\n",
      " 35: [1, 2, 3, 4, 5, 6] / [7, 8, 9, 10]\n",
      "Passe sur 5 cartes ( de 0 à 4 )\n",
      " 36: [1, 2, 3, 4, 5] / [6, 7, 8, 9, 10]\n",
      " 37: [1, 2, 3, 4, 5] / [6, 7, 8, 9, 10]\n",
      " 38: [1, 2, 3, 4, 5] / [6, 7, 8, 9, 10]\n",
      " 39: [1, 2, 3, 4, 5] / [6, 7, 8, 9, 10]\n",
      "Passe sur 4 cartes ( de 0 à 3 )\n",
      " 40: [1, 2, 3, 4] / [5, 6, 7, 8, 9, 10]\n",
      " 41: [1, 2, 3, 4] / [5, 6, 7, 8, 9, 10]\n",
      " 42: [1, 2, 3, 4] / [5, 6, 7, 8, 9, 10]\n",
      "Passe sur 3 cartes ( de 0 à 2 )\n",
      " 43: [1, 2, 3] / [4, 5, 6, 7, 8, 9, 10]\n",
      " 44: [1, 2, 3] / [4, 5, 6, 7, 8, 9, 10]\n",
      "Passe sur 2 cartes ( de 0 à 1 )\n",
      " 45: [1, 2] / [3, 4, 5, 6, 7, 8, 9, 10]\n",
      "niterations = 45 nswap = 0\n"
     ]
    },
    {
     "data": {
      "text/plain": [
       "[1, 2, 3, 4, 5, 6, 7, 8, 9, 10]"
      ]
     },
     "execution_count": 67,
     "metadata": {},
     "output_type": "execute_result"
    }
   ],
   "source": [
    "tri_bulles(meilleur_cas, True)"
   ]
  },
  {
   "cell_type": "markdown",
   "metadata": {},
   "source": [
    "---\n",
    "## Application à une liste de chaînes de caractère"
   ]
  },
  {
   "cell_type": "markdown",
   "metadata": {},
   "source": [
    "**Rappel: Comparaison de chaînes de caractères**"
   ]
  },
  {
   "cell_type": "code",
   "execution_count": 68,
   "metadata": {},
   "outputs": [
    {
     "data": {
      "text/plain": [
       "False"
      ]
     },
     "execution_count": 68,
     "metadata": {},
     "output_type": "execute_result"
    }
   ],
   "source": [
    "\"Abc\" > \"cdf\""
   ]
  },
  {
   "cell_type": "code",
   "execution_count": 69,
   "metadata": {},
   "outputs": [
    {
     "data": {
      "text/plain": [
       "False"
      ]
     },
     "execution_count": 69,
     "metadata": {},
     "output_type": "execute_result"
    }
   ],
   "source": [
    "\"A\" > \"a\""
   ]
  },
  {
   "cell_type": "code",
   "execution_count": 70,
   "metadata": {},
   "outputs": [
    {
     "data": {
      "text/plain": [
       "True"
      ]
     },
     "execution_count": 70,
     "metadata": {},
     "output_type": "execute_result"
    }
   ],
   "source": [
    "\"Vincent\" > \"Christophe\""
   ]
  },
  {
   "cell_type": "code",
   "execution_count": 71,
   "metadata": {},
   "outputs": [
    {
     "data": {
      "text/plain": [
       "False"
      ]
     },
     "execution_count": 71,
     "metadata": {},
     "output_type": "execute_result"
    }
   ],
   "source": [
    "\"Vincent\" > \"christophe\""
   ]
  },
  {
   "cell_type": "code",
   "execution_count": null,
   "metadata": {},
   "outputs": [],
   "source": []
  },
  {
   "cell_type": "code",
   "execution_count": 72,
   "metadata": {},
   "outputs": [],
   "source": [
    "promo = ['Théo', 'Philippe', 'Lamia', 'Marvin', \n",
    "         'Maëlle', 'Yoann', 'Jonathan', 'Corentin', \n",
    "         'Joris', 'Matthias', 'Alicia', 'Izak', \n",
    "         'Mayel', 'Corentin', 'Jordan', 'Abire' \n",
    "]"
   ]
  },
  {
   "cell_type": "code",
   "execution_count": 73,
   "metadata": {},
   "outputs": [
    {
     "name": "stdout",
     "output_type": "stream",
     "text": [
      "c'est ma nouvelle liste ['Abire', 'Alicia', 'Corentin', 'Corentin', 'Izak', 'Jonathan', 'Jordan', 'Joris']\n"
     ]
    }
   ],
   "source": [
    "tri_selection(promo)"
   ]
  },
  {
   "cell_type": "code",
   "execution_count": 74,
   "metadata": {},
   "outputs": [
    {
     "data": {
      "text/plain": [
       "['Lamia', 'Marvin', 'Matthias', 'Mayel', 'Maëlle', 'Philippe', 'Théo', 'Yoann']"
      ]
     },
     "execution_count": 74,
     "metadata": {},
     "output_type": "execute_result"
    }
   ],
   "source": [
    "sorted(promo)"
   ]
  },
  {
   "cell_type": "code",
   "execution_count": 75,
   "metadata": {},
   "outputs": [
    {
     "data": {
      "text/plain": [
       "['Lamia', 'Marvin', 'Matthias', 'Mayel', 'Maëlle', 'Philippe', 'Théo', 'Yoann']"
      ]
     },
     "execution_count": 75,
     "metadata": {},
     "output_type": "execute_result"
    }
   ],
   "source": [
    "tri_bulles(promo)"
   ]
  },
  {
   "cell_type": "code",
   "execution_count": null,
   "metadata": {},
   "outputs": [],
   "source": []
  },
  {
   "cell_type": "markdown",
   "metadata": {},
   "source": [
    "---\n",
    "## Pour aller plus loin\n",
    "\n",
    "Voir \n",
    "- [Complexité algorithmique en temps](https://fr.wikipedia.org/wiki/Complexit%C3%A9_en_temps)\n",
    "- [Algorithme de tri sur Wikipedia](https://fr.wikipedia.org/wiki/Algorithme_de_tri)"
   ]
  },
  {
   "cell_type": "code",
   "execution_count": null,
   "metadata": {},
   "outputs": [],
   "source": []
  },
  {
   "cell_type": "markdown",
   "metadata": {},
   "source": [
    "### Tri fusion (merge sort)"
   ]
  },
  {
   "cell_type": "code",
   "execution_count": 76,
   "metadata": {},
   "outputs": [],
   "source": [
    "def tri_fusion(L):\n",
    "    pass"
   ]
  },
  {
   "cell_type": "code",
   "execution_count": 77,
   "metadata": {},
   "outputs": [],
   "source": [
    "ma_liste = [5, 4, 8, 5, 8, 10, 1, 3, 6, 6, 2, 3, 9]\n",
    "tri_fusion(ma_liste)"
   ]
  },
  {
   "cell_type": "code",
   "execution_count": null,
   "metadata": {},
   "outputs": [],
   "source": []
  },
  {
   "cell_type": "code",
   "execution_count": null,
   "metadata": {},
   "outputs": [],
   "source": []
  }
 ],
 "metadata": {
  "kernelspec": {
   "display_name": "Python 3",
   "language": "python",
   "name": "python3"
  },
  "language_info": {
   "codemirror_mode": {
    "name": "ipython",
    "version": 3
   },
   "file_extension": ".py",
   "mimetype": "text/x-python",
   "name": "python",
   "nbconvert_exporter": "python",
   "pygments_lexer": "ipython3",
   "version": "3.8.6"
  }
 },
 "nbformat": 4,
 "nbformat_minor": 4
}
