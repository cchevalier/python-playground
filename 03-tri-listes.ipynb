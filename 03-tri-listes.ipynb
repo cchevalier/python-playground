{
 "cells": [
  {
   "cell_type": "markdown",
   "metadata": {},
   "source": [
    "# 3. Tri des listes\n"
   ]
  },
  {
   "cell_type": "code",
   "execution_count": 1,
   "metadata": {},
   "outputs": [
    {
     "name": "stdout",
     "output_type": "stream",
     "text": [
      "13 [5, 4, 8, 5, 8, 10, 1, 3, 6, 6, 2, 3, 9]\n"
     ]
    }
   ],
   "source": [
    "ma_liste = [5, 4, 8, 5, 8, 10, 1, 3, 6, 6, 2, 3, 9]\n",
    "print(len(ma_liste), ma_liste)"
   ]
  },
  {
   "cell_type": "code",
   "execution_count": null,
   "metadata": {},
   "outputs": [],
   "source": []
  },
  {
   "cell_type": "markdown",
   "metadata": {},
   "source": [
    "### Méthode de classe / native ```list.sort```"
   ]
  },
  {
   "cell_type": "code",
   "execution_count": 2,
   "metadata": {},
   "outputs": [
    {
     "name": "stdout",
     "output_type": "stream",
     "text": [
      "Help on method_descriptor:\n",
      "\n",
      "sort(self, /, *, key=None, reverse=False)\n",
      "    Sort the list in ascending order and return None.\n",
      "    \n",
      "    The sort is in-place (i.e. the list itself is modified) and stable (i.e. the\n",
      "    order of two equal elements is maintained).\n",
      "    \n",
      "    If a key function is given, apply it once to each list item and sort them,\n",
      "    ascending or descending, according to their function values.\n",
      "    \n",
      "    The reverse flag can be set to sort in descending order.\n",
      "\n"
     ]
    }
   ],
   "source": [
    "help(list.sort)"
   ]
  },
  {
   "cell_type": "code",
   "execution_count": 3,
   "metadata": {},
   "outputs": [
    {
     "name": "stdout",
     "output_type": "stream",
     "text": [
      "[1, 2, 3, 3, 4, 5, 5, 6, 6, 8, 8, 9, 10]\n"
     ]
    }
   ],
   "source": [
    "ma_liste.sort()\n",
    "print(ma_liste)"
   ]
  },
  {
   "cell_type": "code",
   "execution_count": 4,
   "metadata": {},
   "outputs": [
    {
     "name": "stdout",
     "output_type": "stream",
     "text": [
      "[10, 9, 8, 8, 6, 6, 5, 5, 4, 3, 3, 2, 1]\n"
     ]
    }
   ],
   "source": [
    "ma_liste.sort(reverse=True)\n",
    "print(ma_liste)"
   ]
  },
  {
   "cell_type": "code",
   "execution_count": 5,
   "metadata": {},
   "outputs": [
    {
     "data": {
      "text/plain": [
       "[10, 9, 8, 8, 6, 6, 5, 5, 4, 3, 3, 2, 1]"
      ]
     },
     "execution_count": 5,
     "metadata": {},
     "output_type": "execute_result"
    }
   ],
   "source": [
    "ma_liste"
   ]
  },
  {
   "cell_type": "code",
   "execution_count": 6,
   "metadata": {},
   "outputs": [
    {
     "data": {
      "text/plain": [
       "[1, 2, 3, 3, 4, 5, 5, 6, 6, 8, 8, 9, 10]"
      ]
     },
     "execution_count": 6,
     "metadata": {},
     "output_type": "execute_result"
    }
   ],
   "source": [
    "ma_liste.sort()\n",
    "ma_liste"
   ]
  },
  {
   "cell_type": "markdown",
   "metadata": {},
   "source": [
    "### Méthode ```sorted```"
   ]
  },
  {
   "cell_type": "code",
   "execution_count": 7,
   "metadata": {},
   "outputs": [
    {
     "name": "stdout",
     "output_type": "stream",
     "text": [
      "Help on built-in function sorted in module builtins:\n",
      "\n",
      "sorted(iterable, /, *, key=None, reverse=False)\n",
      "    Return a new list containing all items from the iterable in ascending order.\n",
      "    \n",
      "    A custom key function can be supplied to customize the sort order, and the\n",
      "    reverse flag can be set to request the result in descending order.\n",
      "\n"
     ]
    }
   ],
   "source": [
    "help(sorted)"
   ]
  },
  {
   "cell_type": "code",
   "execution_count": 10,
   "metadata": {},
   "outputs": [
    {
     "name": "stdout",
     "output_type": "stream",
     "text": [
      "[1, 2, 3, 3, 4, 5, 5, 6, 6, 8, 8, 9, 10]\n"
     ]
    }
   ],
   "source": [
    "ma_liste = [5, 4, 8, 5, 8, 10, 1, 3, 6, 6, 2, 3, 9]\n",
    "new_list = sorted(ma_liste)\n",
    "print(new_list)"
   ]
  },
  {
   "cell_type": "code",
   "execution_count": null,
   "metadata": {},
   "outputs": [],
   "source": [
    "sorted(ma_liste, reverse=True)"
   ]
  },
  {
   "cell_type": "code",
   "execution_count": 9,
   "metadata": {},
   "outputs": [],
   "source": []
  },
  {
   "cell_type": "markdown",
   "metadata": {},
   "source": [
    "## Exercices"
   ]
  },
  {
   "cell_type": "code",
   "execution_count": 11,
   "metadata": {},
   "outputs": [],
   "source": [
    "ma_liste = [5, 4, 8, 5, 8, 10, 1, 3, 6, 6, 2, 3, 9]"
   ]
  },
  {
   "cell_type": "code",
   "execution_count": null,
   "metadata": {},
   "outputs": [],
   "source": []
  },
  {
   "cell_type": "code",
   "execution_count": null,
   "metadata": {},
   "outputs": [],
   "source": [
    "# FYI: Implementation demo flag\n",
    "def calculer_somme(L, demo = False):\n",
    "    somme = 0\n",
    "    for i in range(len(L)):\n",
    "        somme += L[i]\n",
    "        if demo:\n",
    "            print(L[i], somme)\n",
    "    return somme"
   ]
  },
  {
   "cell_type": "code",
   "execution_count": null,
   "metadata": {},
   "outputs": [],
   "source": [
    "ma_liste = [5, 4, 8, 5, 8, 10, 1, 3, 6, 6, 2, 3, 9]\n",
    "calculer_somme(ma_liste)"
   ]
  },
  {
   "cell_type": "code",
   "execution_count": null,
   "metadata": {},
   "outputs": [],
   "source": [
    "ma_liste = [5, 4, 8, 5, 8, 10, 1, 3, 6, 6, 2, 3, 9]\n",
    "calculer_somme(ma_liste, demo = True)"
   ]
  },
  {
   "cell_type": "markdown",
   "metadata": {},
   "source": [
    "### Tri par sélection (min)"
   ]
  },
  {
   "cell_type": "markdown",
   "metadata": {},
   "source": [
    "> **Démo avec jeux de cartes**"
   ]
  },
  {
   "cell_type": "markdown",
   "metadata": {},
   "source": [
    "TO DO: Décrivez l'algorithme de tri par sélection en pseudo-code:  \n",
    "\n",
    "Jordan:\n",
    "\n",
    "Tant qu'il y a des cartes:\n",
    "    je prends la plus faible\n",
    "    je l'ajoute à une nouvelle liste\n",
    "    je la supprime de L\n",
    "je retourne la nouvelle liste\n",
    "  \n",
    "  \n",
    "--"
   ]
  },
  {
   "cell_type": "code",
   "execution_count": 16,
   "metadata": {
    "collapsed": true,
    "jupyter": {
     "outputs_hidden": true,
     "source_hidden": true
    }
   },
   "outputs": [
    {
     "name": "stdout",
     "output_type": "stream",
     "text": [
      "13\n",
      "12\n",
      "11\n",
      "10\n",
      "9\n",
      "8\n",
      "7\n",
      "6\n",
      "5\n",
      "4\n",
      "3\n",
      "2\n",
      "1\n"
     ]
    }
   ],
   "source": [
    "compteur = len(ma_liste)\n",
    "while compteur > 0:\n",
    "    print(compteur)\n",
    "    compteur -= 1"
   ]
  },
  {
   "cell_type": "code",
   "execution_count": 17,
   "metadata": {},
   "outputs": [],
   "source": [
    "# Implémentation du tri par sélection (utilisant fonction min())\n",
    "def tri_selection(L, demo = False):\n",
    "    # While / Jordan\n",
    "    liste_triee = []\n",
    "    while len(L) > 0:\n",
    "        carte_min = min(L)\n",
    "        liste_triee.append(carte_min)\n",
    "        L.remove(carte_min)\n",
    "    return liste_triee"
   ]
  },
  {
   "cell_type": "code",
   "execution_count": 18,
   "metadata": {},
   "outputs": [
    {
     "data": {
      "text/plain": [
       "[1, 2, 3, 3, 4, 5, 5, 6, 6, 8, 8, 9, 10]"
      ]
     },
     "execution_count": 18,
     "metadata": {},
     "output_type": "execute_result"
    }
   ],
   "source": [
    "ma_liste = [5, 4, 8, 5, 8, 10, 1, 3, 6, 6, 2, 3, 9]\n",
    "tri_selection(ma_liste, True)"
   ]
  },
  {
   "cell_type": "code",
   "execution_count": 19,
   "metadata": {},
   "outputs": [
    {
     "data": {
      "text/plain": [
       "[]"
      ]
     },
     "execution_count": 19,
     "metadata": {},
     "output_type": "execute_result"
    }
   ],
   "source": [
    "ma_liste"
   ]
  },
  {
   "cell_type": "code",
   "execution_count": 55,
   "metadata": {},
   "outputs": [],
   "source": [
    "def tri_selection(L, demo = False):\n",
    "    # C&C Abire\n",
    "    L_tri=[]\n",
    "    for i in range(len(L)):\n",
    "        L_min=min(L)\n",
    "        L.remove(L_min)\n",
    "        L_tri.append(L_min)\n",
    "    return L_tri"
   ]
  },
  {
   "cell_type": "code",
   "execution_count": 21,
   "metadata": {},
   "outputs": [
    {
     "data": {
      "text/plain": [
       "[1, 2, 3, 3, 4, 5, 5, 6, 6, 8, 8, 9, 10]"
      ]
     },
     "execution_count": 21,
     "metadata": {},
     "output_type": "execute_result"
    }
   ],
   "source": [
    "ma_liste = [5, 4, 8, 5, 8, 10, 1, 3, 6, 6, 2, 3, 9]\n",
    "tri_selection(ma_liste, True)"
   ]
  },
  {
   "cell_type": "code",
   "execution_count": null,
   "metadata": {},
   "outputs": [],
   "source": [
    "ma_liste"
   ]
  },
  {
   "cell_type": "code",
   "execution_count": 22,
   "metadata": {},
   "outputs": [],
   "source": [
    "# Implémentation du tri par sélection (utilisant fonction min())\n",
    "def tri_selection(L, demo = False):\n",
    "    # c&c Lamia, tri en place, nécessite de bien gérer les indices\n",
    "\n",
    "    for i in range(len(L)-1):\n",
    "        min_list=min(L[i:len(L)])\n",
    "        index_min=L[i:len(L)].index(min_list)+i\n",
    "        L[i],L[index_min]=L[index_min],L[i]\n",
    "    return L"
   ]
  },
  {
   "cell_type": "code",
   "execution_count": 23,
   "metadata": {},
   "outputs": [
    {
     "data": {
      "text/plain": [
       "[1, 2, 3, 3, 4, 5, 5, 6, 6, 8, 8, 9, 10]"
      ]
     },
     "execution_count": 23,
     "metadata": {},
     "output_type": "execute_result"
    }
   ],
   "source": [
    "ma_liste = [5, 4, 8, 5, 8, 10, 1, 3, 6, 6, 2, 3, 9]\n",
    "tri_selection(ma_liste, True)"
   ]
  },
  {
   "cell_type": "code",
   "execution_count": 49,
   "metadata": {},
   "outputs": [],
   "source": [
    "def tri_selection(L, demo = False):\n",
    "    min_L=[]\n",
    "    for e in range(len(L)-1):\n",
    "        if e == min(L):\n",
    "            min_L.append(e)\n",
    "            L.remove(min(L))\n",
    "    return(min_L)"
   ]
  },
  {
   "cell_type": "code",
   "execution_count": 50,
   "metadata": {},
   "outputs": [
    {
     "data": {
      "text/plain": [
       "[1, 2, 3]"
      ]
     },
     "execution_count": 50,
     "metadata": {},
     "output_type": "execute_result"
    }
   ],
   "source": [
    "ma_liste = [5, 4, 8, 5, 8, 10, 1, 3, 6, 6, 2, 3, 9]\n",
    "tri_selection(ma_liste, True)"
   ]
  },
  {
   "cell_type": "code",
   "execution_count": 39,
   "metadata": {},
   "outputs": [],
   "source": [
    "def tri_selection(L, demo = False):\n",
    "    min_L=[]\n",
    "    for e in range(len(L)):\n",
    "        tmp = min(L)\n",
    "        min_L.append(tmp)\n",
    "        L.remove(tmp)\n",
    "    return(min_L)\n"
   ]
  },
  {
   "cell_type": "code",
   "execution_count": 40,
   "metadata": {},
   "outputs": [
    {
     "data": {
      "text/plain": [
       "[1, 2, 3, 3, 4, 5, 5, 6, 6, 8, 8, 9, 10]"
      ]
     },
     "execution_count": 40,
     "metadata": {},
     "output_type": "execute_result"
    }
   ],
   "source": [
    "ma_liste = [5, 4, 8, 5, 8, 10, 1, 3, 6, 6, 2, 3, 9]\n",
    "tri_selection(ma_liste, True)"
   ]
  },
  {
   "cell_type": "code",
   "execution_count": 42,
   "metadata": {},
   "outputs": [],
   "source": [
    "def tri_selection(L, demo = False):\n",
    "    min_L=[]\n",
    "    for e in range(len(L)-1):\n",
    "        if e == min(L):\n",
    "            min_L.append(e)\n",
    "            L.remove(min(L))\n",
    "    return(min_L)"
   ]
  },
  {
   "cell_type": "code",
   "execution_count": 43,
   "metadata": {},
   "outputs": [
    {
     "data": {
      "text/plain": [
       "[1, 2, 3]"
      ]
     },
     "execution_count": 43,
     "metadata": {},
     "output_type": "execute_result"
    }
   ],
   "source": [
    "ma_liste = [5, 4, 8, 5, 8, 10, 1, 3, 6, 6, 2, 3, 9]\n",
    "tri_selection(ma_liste, True)"
   ]
  },
  {
   "cell_type": "code",
   "execution_count": null,
   "metadata": {},
   "outputs": [],
   "source": [
    "# Implémentation du tri par sélection \n",
    "# (avec ré-implémentation d'une fonction min personnelle)\n",
    "def tri_selection_complet(L, demo = False):\n",
    "    pass"
   ]
  },
  {
   "cell_type": "code",
   "execution_count": null,
   "metadata": {},
   "outputs": [],
   "source": [
    "ma_liste = [5, 4, 8, 5, 8, 10, 1, 3, 6, 6, 2, 3, 9]\n",
    "tri_selection_complet(ma_liste, True)"
   ]
  },
  {
   "cell_type": "code",
   "execution_count": 51,
   "metadata": {},
   "outputs": [],
   "source": [
    "def tri_selecton(L,demo=False):\n",
    "    min_L=[]\n",
    "    for i in range(len(L)-1):\n",
    "        if L[i]==min(L):\n",
    "            min_L.append(L[i])\n",
    "            L.remove(L[i])\n",
    "    return(min_L)"
   ]
  },
  {
   "cell_type": "code",
   "execution_count": null,
   "metadata": {},
   "outputs": [],
   "source": []
  },
  {
   "cell_type": "code",
   "execution_count": 52,
   "metadata": {},
   "outputs": [
    {
     "data": {
      "text/plain": [
       "[1, 2, 3]"
      ]
     },
     "execution_count": 52,
     "metadata": {},
     "output_type": "execute_result"
    }
   ],
   "source": [
    "ma_liste = [5, 4, 8, 5, 8, 10, 1, 3, 6, 6, 2, 3, 9]\n",
    "tri_selection(ma_liste, True)"
   ]
  },
  {
   "cell_type": "code",
   "execution_count": null,
   "metadata": {},
   "outputs": [],
   "source": []
  },
  {
   "cell_type": "code",
   "execution_count": 58,
   "metadata": {},
   "outputs": [],
   "source": [
    "ma_liste = [5, 4, 8, 5, 8, 10, 1, 3, 6, 6, 2, 3, 9]"
   ]
  },
  {
   "cell_type": "code",
   "execution_count": 60,
   "metadata": {},
   "outputs": [],
   "source": [
    "def tri_selection(L, demo = False):\n",
    "    S = []\n",
    "    \n",
    "    compteur = 0\n",
    "    if demo:\n",
    "        print(compteur, S)\n",
    "    \n",
    "    while len(L) > 0:\n",
    "        compteur += 1\n",
    "        \n",
    "        emin = min(L) \n",
    "        S.append(emin)\n",
    "        L.remove(emin)\n",
    "        \n",
    "        if demo:\n",
    "            print(compteur, S)\n",
    "    \n",
    "    return S"
   ]
  },
  {
   "cell_type": "code",
   "execution_count": 61,
   "metadata": {},
   "outputs": [
    {
     "data": {
      "text/plain": [
       "[1, 2, 3, 3, 4, 5, 5, 6, 6, 8, 8, 9, 10]"
      ]
     },
     "execution_count": 61,
     "metadata": {},
     "output_type": "execute_result"
    }
   ],
   "source": [
    "ma_liste = [5, 4, 8, 5, 8, 10, 1, 3, 6, 6, 2, 3, 9]\n",
    "tri_selection(ma_liste)"
   ]
  },
  {
   "cell_type": "code",
   "execution_count": 63,
   "metadata": {},
   "outputs": [
    {
     "name": "stdout",
     "output_type": "stream",
     "text": [
      "0 []\n",
      "1 [1]\n",
      "2 [1, 2]\n",
      "3 [1, 2, 3]\n",
      "4 [1, 2, 3, 3]\n",
      "5 [1, 2, 3, 3, 4]\n",
      "6 [1, 2, 3, 3, 4, 5]\n",
      "7 [1, 2, 3, 3, 4, 5, 5]\n",
      "8 [1, 2, 3, 3, 4, 5, 5, 6]\n",
      "9 [1, 2, 3, 3, 4, 5, 5, 6, 6]\n",
      "10 [1, 2, 3, 3, 4, 5, 5, 6, 6, 8]\n",
      "11 [1, 2, 3, 3, 4, 5, 5, 6, 6, 8, 8]\n",
      "12 [1, 2, 3, 3, 4, 5, 5, 6, 6, 8, 8, 9]\n",
      "13 [1, 2, 3, 3, 4, 5, 5, 6, 6, 8, 8, 9, 10]\n"
     ]
    },
    {
     "data": {
      "text/plain": [
       "[1, 2, 3, 3, 4, 5, 5, 6, 6, 8, 8, 9, 10]"
      ]
     },
     "execution_count": 63,
     "metadata": {},
     "output_type": "execute_result"
    }
   ],
   "source": [
    "ma_liste = [5, 4, 8, 5, 8, 10, 1, 3, 6, 6, 2, 3, 9]\n",
    "tri_selection(ma_liste, True)"
   ]
  },
  {
   "cell_type": "code",
   "execution_count": null,
   "metadata": {},
   "outputs": [],
   "source": []
  },
  {
   "cell_type": "code",
   "execution_count": null,
   "metadata": {},
   "outputs": [],
   "source": []
  },
  {
   "cell_type": "code",
   "execution_count": 64,
   "metadata": {},
   "outputs": [],
   "source": [
    "def tri_selection_complet(L, demo = False):\n",
    "    S = []\n",
    "    compteur = 0\n",
    "    if demo:\n",
    "        print(\"{:3d}: {}\".format(compteur, L))\n",
    "    \n",
    "    while len(L) > 0:\n",
    "        \n",
    "        emin = L[0]\n",
    "        for e in L:\n",
    "            compteur += 1\n",
    "            if e < emin:\n",
    "                emin = e\n",
    "        \n",
    "        S.append(emin)\n",
    "        L.remove(emin)\n",
    "        \n",
    "        if demo:\n",
    "            print(f\"{compteur:3d}: {S}\")\n",
    "    return S"
   ]
  },
  {
   "cell_type": "code",
   "execution_count": 65,
   "metadata": {},
   "outputs": [
    {
     "name": "stdout",
     "output_type": "stream",
     "text": [
      "  0: [5, 4, 8, 5, 8, 10, 1, 3, 6, 6, 2, 3, 9]\n",
      " 13: [1]\n",
      " 25: [1, 2]\n",
      " 36: [1, 2, 3]\n",
      " 46: [1, 2, 3, 3]\n",
      " 55: [1, 2, 3, 3, 4]\n",
      " 63: [1, 2, 3, 3, 4, 5]\n",
      " 70: [1, 2, 3, 3, 4, 5, 5]\n",
      " 76: [1, 2, 3, 3, 4, 5, 5, 6]\n",
      " 81: [1, 2, 3, 3, 4, 5, 5, 6, 6]\n",
      " 85: [1, 2, 3, 3, 4, 5, 5, 6, 6, 8]\n",
      " 88: [1, 2, 3, 3, 4, 5, 5, 6, 6, 8, 8]\n",
      " 90: [1, 2, 3, 3, 4, 5, 5, 6, 6, 8, 8, 9]\n",
      " 91: [1, 2, 3, 3, 4, 5, 5, 6, 6, 8, 8, 9, 10]\n"
     ]
    },
    {
     "data": {
      "text/plain": [
       "[1, 2, 3, 3, 4, 5, 5, 6, 6, 8, 8, 9, 10]"
      ]
     },
     "execution_count": 65,
     "metadata": {},
     "output_type": "execute_result"
    }
   ],
   "source": [
    "ma_liste = [5, 4, 8, 5, 8, 10, 1, 3, 6, 6, 2, 3, 9]\n",
    "tri_selection_complet(ma_liste, True)"
   ]
  },
  {
   "cell_type": "code",
   "execution_count": null,
   "metadata": {},
   "outputs": [],
   "source": []
  },
  {
   "cell_type": "code",
   "execution_count": null,
   "metadata": {},
   "outputs": [],
   "source": []
  },
  {
   "cell_type": "code",
   "execution_count": null,
   "metadata": {},
   "outputs": [],
   "source": []
  },
  {
   "cell_type": "code",
   "execution_count": 80,
   "metadata": {},
   "outputs": [],
   "source": [
    "def tri_selection(L, demo = False):\n",
    "\n",
    "    nouvelle_liste = []\n",
    "\n",
    "    for i in range(len(L)):\n",
    "        print(L)\n",
    "        vmin = min(L)\n",
    "        print(i, vmin, min(L), max(L), len(L), L)\n",
    "        nouvelle_liste.append(vmin)\n",
    "        L.remove(vmin)\n",
    "\n",
    "    print(\"c'est ma nouvelle liste\", nouvelle_liste)"
   ]
  },
  {
   "cell_type": "code",
   "execution_count": 81,
   "metadata": {},
   "outputs": [
    {
     "name": "stdout",
     "output_type": "stream",
     "text": [
      "[5, 4, 8, 5, 8, 10, 1, 3, 6, 6, 2, 3, 9]\n",
      "0 1 1 10 13 [5, 4, 8, 5, 8, 10, 1, 3, 6, 6, 2, 3, 9]\n",
      "[5, 4, 8, 5, 8, 10, 3, 6, 6, 2, 3, 9]\n",
      "1 2 2 10 12 [5, 4, 8, 5, 8, 10, 3, 6, 6, 2, 3, 9]\n",
      "[5, 4, 8, 5, 8, 10, 3, 6, 6, 3, 9]\n",
      "2 3 3 10 11 [5, 4, 8, 5, 8, 10, 3, 6, 6, 3, 9]\n",
      "[5, 4, 8, 5, 8, 10, 6, 6, 3, 9]\n",
      "3 3 3 10 10 [5, 4, 8, 5, 8, 10, 6, 6, 3, 9]\n",
      "[5, 4, 8, 5, 8, 10, 6, 6, 9]\n",
      "4 4 4 10 9 [5, 4, 8, 5, 8, 10, 6, 6, 9]\n",
      "[5, 8, 5, 8, 10, 6, 6, 9]\n",
      "5 5 5 10 8 [5, 8, 5, 8, 10, 6, 6, 9]\n",
      "[8, 5, 8, 10, 6, 6, 9]\n",
      "6 5 5 10 7 [8, 5, 8, 10, 6, 6, 9]\n",
      "[8, 8, 10, 6, 6, 9]\n",
      "7 6 6 10 6 [8, 8, 10, 6, 6, 9]\n",
      "[8, 8, 10, 6, 9]\n",
      "8 6 6 10 5 [8, 8, 10, 6, 9]\n",
      "[8, 8, 10, 9]\n",
      "9 8 8 10 4 [8, 8, 10, 9]\n",
      "[8, 10, 9]\n",
      "10 8 8 10 3 [8, 10, 9]\n",
      "[10, 9]\n",
      "11 9 9 10 2 [10, 9]\n",
      "[10]\n",
      "12 10 10 10 1 [10]\n",
      "c'est ma nouvelle liste [1, 2, 3, 3, 4, 5, 5, 6, 6, 8, 8, 9, 10]\n"
     ]
    }
   ],
   "source": [
    "ma_liste = [5, 4, 8, 5, 8, 10, 1, 3, 6, 6, 2, 3, 9]\n",
    "tri_selection(ma_liste, True)"
   ]
  },
  {
   "cell_type": "code",
   "execution_count": null,
   "metadata": {},
   "outputs": [],
   "source": []
  },
  {
   "cell_type": "markdown",
   "metadata": {},
   "source": [
    "---"
   ]
  },
  {
   "cell_type": "markdown",
   "metadata": {},
   "source": [
    "### Tri à bulles (ou tri par propagation)"
   ]
  },
  {
   "cell_type": "markdown",
   "metadata": {},
   "source": [
    "> **Démo avec jeux de cartes**"
   ]
  },
  {
   "cell_type": "markdown",
   "metadata": {},
   "source": [
    "Autre illustration (Source: [wikipedia](https://en.wikipedia.org/wiki/Bubble_sort))  "
   ]
  },
  {
   "cell_type": "markdown",
   "metadata": {},
   "source": [
    "![Tri à Bulles](./img/bubble-sort.gif)  \n"
   ]
  },
  {
   "cell_type": "markdown",
   "metadata": {},
   "source": [
    "TO DO: Décrivez l'algorithme du tri à bulles en pseudo-code:  \n",
    "\n",
    "  \n",
    "  \n",
    "  \n",
    "--"
   ]
  },
  {
   "cell_type": "code",
   "execution_count": 12,
   "metadata": {},
   "outputs": [],
   "source": [
    "# Implémentation\n",
    "def tri_bulles(L, demo = False):\n",
    "    n = len(L)\n",
    "    compteur = 0\n",
    "    if demo:\n",
    "        print(\"{:3d}: {}\".format(compteur, L))\n",
    "    \n",
    "    # Traverser tous les éléments du tableau\n",
    "    for i in range(n-1, 1, -1):\n",
    "        for j in range(0, i-1):\n",
    "            compteur += 1\n",
    "            # échanger si l'élément trouvé est plus grand que le suivant\n",
    "            if L[j] > L[j+1] :\n",
    "                L[j], L[j+1] = L[j+1], L[j]\n",
    "            if demo:\n",
    "                print(f\"{compteur:3d}: {L}\")\n",
    "    return L"
   ]
  },
  {
   "cell_type": "code",
   "execution_count": 13,
   "metadata": {},
   "outputs": [
    {
     "name": "stdout",
     "output_type": "stream",
     "text": [
      "  0: [5, 4, 8, 5, 8, 10, 1, 3, 6, 6, 2, 3, 9]\n",
      "  1: [4, 5, 8, 5, 8, 10, 1, 3, 6, 6, 2, 3, 9]\n",
      "  2: [4, 5, 8, 5, 8, 10, 1, 3, 6, 6, 2, 3, 9]\n",
      "  3: [4, 5, 5, 8, 8, 10, 1, 3, 6, 6, 2, 3, 9]\n",
      "  4: [4, 5, 5, 8, 8, 10, 1, 3, 6, 6, 2, 3, 9]\n",
      "  5: [4, 5, 5, 8, 8, 10, 1, 3, 6, 6, 2, 3, 9]\n",
      "  6: [4, 5, 5, 8, 8, 1, 10, 3, 6, 6, 2, 3, 9]\n",
      "  7: [4, 5, 5, 8, 8, 1, 3, 10, 6, 6, 2, 3, 9]\n",
      "  8: [4, 5, 5, 8, 8, 1, 3, 6, 10, 6, 2, 3, 9]\n",
      "  9: [4, 5, 5, 8, 8, 1, 3, 6, 6, 10, 2, 3, 9]\n",
      " 10: [4, 5, 5, 8, 8, 1, 3, 6, 6, 2, 10, 3, 9]\n",
      " 11: [4, 5, 5, 8, 8, 1, 3, 6, 6, 2, 3, 10, 9]\n",
      " 12: [4, 5, 5, 8, 8, 1, 3, 6, 6, 2, 3, 10, 9]\n",
      " 13: [4, 5, 5, 8, 8, 1, 3, 6, 6, 2, 3, 10, 9]\n",
      " 14: [4, 5, 5, 8, 8, 1, 3, 6, 6, 2, 3, 10, 9]\n",
      " 15: [4, 5, 5, 8, 8, 1, 3, 6, 6, 2, 3, 10, 9]\n",
      " 16: [4, 5, 5, 8, 1, 8, 3, 6, 6, 2, 3, 10, 9]\n",
      " 17: [4, 5, 5, 8, 1, 3, 8, 6, 6, 2, 3, 10, 9]\n",
      " 18: [4, 5, 5, 8, 1, 3, 6, 8, 6, 2, 3, 10, 9]\n",
      " 19: [4, 5, 5, 8, 1, 3, 6, 6, 8, 2, 3, 10, 9]\n",
      " 20: [4, 5, 5, 8, 1, 3, 6, 6, 2, 8, 3, 10, 9]\n",
      " 21: [4, 5, 5, 8, 1, 3, 6, 6, 2, 3, 8, 10, 9]\n",
      " 22: [4, 5, 5, 8, 1, 3, 6, 6, 2, 3, 8, 10, 9]\n",
      " 23: [4, 5, 5, 8, 1, 3, 6, 6, 2, 3, 8, 10, 9]\n",
      " 24: [4, 5, 5, 8, 1, 3, 6, 6, 2, 3, 8, 10, 9]\n",
      " 25: [4, 5, 5, 1, 8, 3, 6, 6, 2, 3, 8, 10, 9]\n",
      " 26: [4, 5, 5, 1, 3, 8, 6, 6, 2, 3, 8, 10, 9]\n",
      " 27: [4, 5, 5, 1, 3, 6, 8, 6, 2, 3, 8, 10, 9]\n",
      " 28: [4, 5, 5, 1, 3, 6, 6, 8, 2, 3, 8, 10, 9]\n",
      " 29: [4, 5, 5, 1, 3, 6, 6, 2, 8, 3, 8, 10, 9]\n",
      " 30: [4, 5, 5, 1, 3, 6, 6, 2, 3, 8, 8, 10, 9]\n",
      " 31: [4, 5, 5, 1, 3, 6, 6, 2, 3, 8, 8, 10, 9]\n",
      " 32: [4, 5, 5, 1, 3, 6, 6, 2, 3, 8, 8, 10, 9]\n",
      " 33: [4, 5, 1, 5, 3, 6, 6, 2, 3, 8, 8, 10, 9]\n",
      " 34: [4, 5, 1, 3, 5, 6, 6, 2, 3, 8, 8, 10, 9]\n",
      " 35: [4, 5, 1, 3, 5, 6, 6, 2, 3, 8, 8, 10, 9]\n",
      " 36: [4, 5, 1, 3, 5, 6, 6, 2, 3, 8, 8, 10, 9]\n",
      " 37: [4, 5, 1, 3, 5, 6, 2, 6, 3, 8, 8, 10, 9]\n",
      " 38: [4, 5, 1, 3, 5, 6, 2, 3, 6, 8, 8, 10, 9]\n",
      " 39: [4, 5, 1, 3, 5, 6, 2, 3, 6, 8, 8, 10, 9]\n",
      " 40: [4, 1, 5, 3, 5, 6, 2, 3, 6, 8, 8, 10, 9]\n",
      " 41: [4, 1, 3, 5, 5, 6, 2, 3, 6, 8, 8, 10, 9]\n",
      " 42: [4, 1, 3, 5, 5, 6, 2, 3, 6, 8, 8, 10, 9]\n",
      " 43: [4, 1, 3, 5, 5, 6, 2, 3, 6, 8, 8, 10, 9]\n",
      " 44: [4, 1, 3, 5, 5, 2, 6, 3, 6, 8, 8, 10, 9]\n",
      " 45: [4, 1, 3, 5, 5, 2, 3, 6, 6, 8, 8, 10, 9]\n",
      " 46: [1, 4, 3, 5, 5, 2, 3, 6, 6, 8, 8, 10, 9]\n",
      " 47: [1, 3, 4, 5, 5, 2, 3, 6, 6, 8, 8, 10, 9]\n",
      " 48: [1, 3, 4, 5, 5, 2, 3, 6, 6, 8, 8, 10, 9]\n",
      " 49: [1, 3, 4, 5, 5, 2, 3, 6, 6, 8, 8, 10, 9]\n",
      " 50: [1, 3, 4, 5, 2, 5, 3, 6, 6, 8, 8, 10, 9]\n",
      " 51: [1, 3, 4, 5, 2, 3, 5, 6, 6, 8, 8, 10, 9]\n",
      " 52: [1, 3, 4, 5, 2, 3, 5, 6, 6, 8, 8, 10, 9]\n",
      " 53: [1, 3, 4, 5, 2, 3, 5, 6, 6, 8, 8, 10, 9]\n",
      " 54: [1, 3, 4, 5, 2, 3, 5, 6, 6, 8, 8, 10, 9]\n",
      " 55: [1, 3, 4, 2, 5, 3, 5, 6, 6, 8, 8, 10, 9]\n",
      " 56: [1, 3, 4, 2, 3, 5, 5, 6, 6, 8, 8, 10, 9]\n",
      " 57: [1, 3, 4, 2, 3, 5, 5, 6, 6, 8, 8, 10, 9]\n",
      " 58: [1, 3, 4, 2, 3, 5, 5, 6, 6, 8, 8, 10, 9]\n",
      " 59: [1, 3, 2, 4, 3, 5, 5, 6, 6, 8, 8, 10, 9]\n",
      " 60: [1, 3, 2, 3, 4, 5, 5, 6, 6, 8, 8, 10, 9]\n",
      " 61: [1, 3, 2, 3, 4, 5, 5, 6, 6, 8, 8, 10, 9]\n",
      " 62: [1, 2, 3, 3, 4, 5, 5, 6, 6, 8, 8, 10, 9]\n",
      " 63: [1, 2, 3, 3, 4, 5, 5, 6, 6, 8, 8, 10, 9]\n",
      " 64: [1, 2, 3, 3, 4, 5, 5, 6, 6, 8, 8, 10, 9]\n",
      " 65: [1, 2, 3, 3, 4, 5, 5, 6, 6, 8, 8, 10, 9]\n",
      " 66: [1, 2, 3, 3, 4, 5, 5, 6, 6, 8, 8, 10, 9]\n"
     ]
    },
    {
     "data": {
      "text/plain": [
       "[1, 2, 3, 3, 4, 5, 5, 6, 6, 8, 8, 10, 9]"
      ]
     },
     "execution_count": 13,
     "metadata": {},
     "output_type": "execute_result"
    }
   ],
   "source": [
    "ma_liste = [5, 4, 8, 5, 8, 10, 1, 3, 6, 6, 2, 3, 9]\n",
    "tri_bulles(ma_liste, demo = True)"
   ]
  },
  {
   "cell_type": "code",
   "execution_count": null,
   "metadata": {},
   "outputs": [],
   "source": []
  },
  {
   "cell_type": "code",
   "execution_count": null,
   "metadata": {},
   "outputs": [],
   "source": [
    "pire_cas = [i for i in range(10, 0, -1)]\n",
    "print(len(pire_cas), pire_cas)"
   ]
  },
  {
   "cell_type": "code",
   "execution_count": null,
   "metadata": {},
   "outputs": [],
   "source": [
    "tri_bulles(pire_cas, True)"
   ]
  },
  {
   "cell_type": "code",
   "execution_count": null,
   "metadata": {},
   "outputs": [],
   "source": [
    "# Le nb d'itérations dans ce cas est: n * (n + 1) / 2)\n",
    "9 + 8 + 7 + 6 + 5 + 4 + 3 + 2 + 1"
   ]
  },
  {
   "cell_type": "code",
   "execution_count": null,
   "metadata": {},
   "outputs": [],
   "source": [
    "# Ce qui est égal à n * (n + 1) / 2  avec n = 9\n",
    "9 * 10 // 2"
   ]
  },
  {
   "cell_type": "code",
   "execution_count": null,
   "metadata": {},
   "outputs": [],
   "source": []
  },
  {
   "cell_type": "markdown",
   "metadata": {},
   "source": [
    "---\n",
    "## Application à une liste de chaînes de caractère"
   ]
  },
  {
   "cell_type": "markdown",
   "metadata": {},
   "source": [
    "**Rappel: Comparaison de chaînes de caractères**"
   ]
  },
  {
   "cell_type": "code",
   "execution_count": null,
   "metadata": {},
   "outputs": [],
   "source": [
    "\"Abc\" > \"cdf\""
   ]
  },
  {
   "cell_type": "code",
   "execution_count": null,
   "metadata": {},
   "outputs": [],
   "source": [
    "\"A\" > \"a\""
   ]
  },
  {
   "cell_type": "code",
   "execution_count": null,
   "metadata": {},
   "outputs": [],
   "source": [
    "\"Vincent\" > \"Christophe\""
   ]
  },
  {
   "cell_type": "code",
   "execution_count": null,
   "metadata": {},
   "outputs": [],
   "source": [
    "\"Vincent\" > \"christophe\""
   ]
  },
  {
   "cell_type": "code",
   "execution_count": null,
   "metadata": {},
   "outputs": [],
   "source": []
  },
  {
   "cell_type": "code",
   "execution_count": 56,
   "metadata": {},
   "outputs": [],
   "source": [
    "promo = ['Théo', 'Philippe', 'Lamia', 'Marvin', \n",
    "         'Maëlle', 'Yoann', 'Jonathan', 'Corentin', \n",
    "         'Joris', 'Matthias', 'Alicia', 'Izak', \n",
    "         'Mayel', 'Corentin', 'Jordan', 'Abire' \n",
    "]"
   ]
  },
  {
   "cell_type": "code",
   "execution_count": 57,
   "metadata": {},
   "outputs": [
    {
     "data": {
      "text/plain": [
       "['Abire',\n",
       " 'Alicia',\n",
       " 'Corentin',\n",
       " 'Corentin',\n",
       " 'Izak',\n",
       " 'Jonathan',\n",
       " 'Jordan',\n",
       " 'Joris',\n",
       " 'Lamia',\n",
       " 'Marvin',\n",
       " 'Matthias',\n",
       " 'Mayel',\n",
       " 'Maëlle',\n",
       " 'Philippe',\n",
       " 'Théo',\n",
       " 'Yoann']"
      ]
     },
     "execution_count": 57,
     "metadata": {},
     "output_type": "execute_result"
    }
   ],
   "source": [
    "tri_selection(promo)"
   ]
  },
  {
   "cell_type": "code",
   "execution_count": 54,
   "metadata": {},
   "outputs": [
    {
     "data": {
      "text/plain": [
       "['Abire',\n",
       " 'Alicia',\n",
       " 'Corentin',\n",
       " 'Corentin',\n",
       " 'Izak',\n",
       " 'Jonathan',\n",
       " 'Jordan',\n",
       " 'Joris',\n",
       " 'Lamia',\n",
       " 'Marvin',\n",
       " 'Matthias',\n",
       " 'Mayel',\n",
       " 'Maëlle',\n",
       " 'Philippe',\n",
       " 'Théo',\n",
       " 'Yoann']"
      ]
     },
     "execution_count": 54,
     "metadata": {},
     "output_type": "execute_result"
    }
   ],
   "source": [
    "sorted(promo)"
   ]
  },
  {
   "cell_type": "code",
   "execution_count": null,
   "metadata": {},
   "outputs": [],
   "source": [
    "tri_bulles(promo, True)"
   ]
  },
  {
   "cell_type": "code",
   "execution_count": null,
   "metadata": {},
   "outputs": [],
   "source": []
  },
  {
   "cell_type": "markdown",
   "metadata": {},
   "source": [
    "---\n",
    "## Pour aller plus loin\n",
    "\n",
    "Voir \n",
    "- [Complexité algorithmique en temps](https://fr.wikipedia.org/wiki/Complexit%C3%A9_en_temps)\n",
    "- [Algorithme de tri sur Wikipedia](https://fr.wikipedia.org/wiki/Algorithme_de_tri)"
   ]
  },
  {
   "cell_type": "code",
   "execution_count": null,
   "metadata": {},
   "outputs": [],
   "source": []
  },
  {
   "cell_type": "markdown",
   "metadata": {},
   "source": [
    "### Tri à bulles optimisé\n",
    "TO DO: Imaginer ou rechercher sur internet une possibilité d'améliorer le tri à bulles"
   ]
  },
  {
   "cell_type": "code",
   "execution_count": null,
   "metadata": {},
   "outputs": [],
   "source": [
    "def tri_bulles_optimise(L):\n",
    "    pass"
   ]
  },
  {
   "cell_type": "code",
   "execution_count": null,
   "metadata": {},
   "outputs": [],
   "source": [
    "ma_liste = [5, 4, 8, 5, 8, 10, 1, 3, 6, 6, 2, 3, 9]\n",
    "tri_bulles_optimise(ma_liste)"
   ]
  },
  {
   "cell_type": "code",
   "execution_count": null,
   "metadata": {},
   "outputs": [],
   "source": []
  },
  {
   "cell_type": "markdown",
   "metadata": {},
   "source": [
    "### Tri fusion (merge sort)"
   ]
  },
  {
   "cell_type": "code",
   "execution_count": null,
   "metadata": {},
   "outputs": [],
   "source": [
    "def tri_fusion(L):\n",
    "    pass"
   ]
  },
  {
   "cell_type": "code",
   "execution_count": null,
   "metadata": {},
   "outputs": [],
   "source": [
    "ma_liste = [5, 4, 8, 5, 8, 10, 1, 3, 6, 6, 2, 3, 9]\n",
    "tri_fusion(ma_liste)"
   ]
  },
  {
   "cell_type": "code",
   "execution_count": null,
   "metadata": {},
   "outputs": [],
   "source": []
  },
  {
   "cell_type": "code",
   "execution_count": null,
   "metadata": {},
   "outputs": [],
   "source": []
  }
 ],
 "metadata": {
  "kernelspec": {
   "display_name": "Python 3",
   "language": "python",
   "name": "python3"
  },
  "language_info": {
   "codemirror_mode": {
    "name": "ipython",
    "version": 3
   },
   "file_extension": ".py",
   "mimetype": "text/x-python",
   "name": "python",
   "nbconvert_exporter": "python",
   "pygments_lexer": "ipython3",
   "version": "3.8.6"
  }
 },
 "nbformat": 4,
 "nbformat_minor": 4
}
